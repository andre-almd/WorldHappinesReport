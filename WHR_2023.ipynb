{
  "nbformat": 4,
  "nbformat_minor": 0,
  "metadata": {
    "colab": {
      "provenance": [],
      "authorship_tag": "ABX9TyMk1kUXceREW4VVX6e99ua5",
      "include_colab_link": true
    },
    "kernelspec": {
      "name": "python3",
      "display_name": "Python 3"
    },
    "language_info": {
      "name": "python"
    }
  },
  "cells": [
    {
      "cell_type": "markdown",
      "metadata": {
        "id": "view-in-github",
        "colab_type": "text"
      },
      "source": [
        "<a href=\"https://colab.research.google.com/github/andre-almd/WorldHappinesReport/blob/main/WHR_2023.ipynb\" target=\"_parent\"><img src=\"https://colab.research.google.com/assets/colab-badge.svg\" alt=\"Open In Colab\"/></a>"
      ]
    },
    {
      "cell_type": "markdown",
      "source": [
        "# **Project to analyze data from the World Happines Report (WHR) 2023**"
      ],
      "metadata": {
        "id": "ppdHTRpTEJpm"
      }
    },
    {
      "cell_type": "code",
      "execution_count": 454,
      "metadata": {
        "id": "D5VBjFOrDJmi"
      },
      "outputs": [],
      "source": [
        "'''\n",
        "Project to analyze data from the World Happines Report (WHR) 2023\n",
        "'''\n",
        "\n",
        "import pandas as pd\n",
        "import seaborn as sns\n",
        "import matplotlib.pyplot as plt\n",
        "import numpy as np\n",
        "\n",
        "from scipy.stats import spearmanr"
      ]
    },
    {
      "cell_type": "code",
      "source": [
        "sns.set_theme(style=\"whitegrid\", palette='tab10')"
      ],
      "metadata": {
        "id": "WvCBjuMeIo7E"
      },
      "execution_count": 455,
      "outputs": []
    },
    {
      "cell_type": "markdown",
      "source": [
        "## **Análise Exploratória**"
      ],
      "metadata": {
        "id": "ZqDRJDLdWOQb"
      }
    },
    {
      "cell_type": "code",
      "source": [
        "whr_df = pd.read_excel('/content/DataForTable2.1WHR2023.xls')\n",
        "whr_df"
      ],
      "metadata": {
        "colab": {
          "base_uri": "https://localhost:8080/",
          "height": 485
        },
        "id": "fktYJnqkDrV6",
        "outputId": "7a23721d-6bac-4fc5-b0db-2657eeb9b12e"
      },
      "execution_count": 456,
      "outputs": [
        {
          "output_type": "execute_result",
          "data": {
            "text/plain": [
              "     Country name  year  Life Ladder  Log GDP per capita  Social support  \\\n",
              "0     Afghanistan  2008     3.723590            7.350416        0.450662   \n",
              "1     Afghanistan  2009     4.401778            7.508646        0.552308   \n",
              "2     Afghanistan  2010     4.758381            7.613900        0.539075   \n",
              "3     Afghanistan  2011     3.831719            7.581259        0.521104   \n",
              "4     Afghanistan  2012     3.782938            7.660506        0.520637   \n",
              "...           ...   ...          ...                 ...             ...   \n",
              "2194     Zimbabwe  2018     3.616480            7.783066        0.775388   \n",
              "2195     Zimbabwe  2019     2.693523            7.697755        0.759162   \n",
              "2196     Zimbabwe  2020     3.159802            7.596050        0.717243   \n",
              "2197     Zimbabwe  2021     3.154578            7.656878        0.685151   \n",
              "2198     Zimbabwe  2022     3.296220            7.670123        0.666172   \n",
              "\n",
              "      Healthy life expectancy at birth  Freedom to make life choices  \\\n",
              "0                            50.500000                      0.718114   \n",
              "1                            50.799999                      0.678896   \n",
              "2                            51.099998                      0.600127   \n",
              "3                            51.400002                      0.495901   \n",
              "4                            51.700001                      0.530935   \n",
              "...                                ...                           ...   \n",
              "2194                         52.625000                      0.762675   \n",
              "2195                         53.099998                      0.631908   \n",
              "2196                         53.575001                      0.643303   \n",
              "2197                         54.049999                      0.667636   \n",
              "2198                         54.525002                      0.651987   \n",
              "\n",
              "      Generosity  Perceptions of corruption  Positive affect  Negative affect  \n",
              "0       0.167652                   0.881686         0.414297         0.258195  \n",
              "1       0.190809                   0.850035         0.481421         0.237092  \n",
              "2       0.121316                   0.706766         0.516907         0.275324  \n",
              "3       0.163571                   0.731109         0.479835         0.267175  \n",
              "4       0.237588                   0.775620         0.613513         0.267919  \n",
              "...          ...                        ...              ...              ...  \n",
              "2194   -0.051219                   0.844209         0.657524         0.211726  \n",
              "2195   -0.047464                   0.830652         0.658434         0.235354  \n",
              "2196    0.006313                   0.788523         0.660658         0.345736  \n",
              "2197   -0.075575                   0.756945         0.609917         0.241682  \n",
              "2198   -0.069513                   0.752632         0.640609         0.191350  \n",
              "\n",
              "[2199 rows x 11 columns]"
            ],
            "text/html": [
              "\n",
              "  <div id=\"df-1dab0bd0-1def-44f7-9f44-45c525142eab\">\n",
              "    <div class=\"colab-df-container\">\n",
              "      <div>\n",
              "<style scoped>\n",
              "    .dataframe tbody tr th:only-of-type {\n",
              "        vertical-align: middle;\n",
              "    }\n",
              "\n",
              "    .dataframe tbody tr th {\n",
              "        vertical-align: top;\n",
              "    }\n",
              "\n",
              "    .dataframe thead th {\n",
              "        text-align: right;\n",
              "    }\n",
              "</style>\n",
              "<table border=\"1\" class=\"dataframe\">\n",
              "  <thead>\n",
              "    <tr style=\"text-align: right;\">\n",
              "      <th></th>\n",
              "      <th>Country name</th>\n",
              "      <th>year</th>\n",
              "      <th>Life Ladder</th>\n",
              "      <th>Log GDP per capita</th>\n",
              "      <th>Social support</th>\n",
              "      <th>Healthy life expectancy at birth</th>\n",
              "      <th>Freedom to make life choices</th>\n",
              "      <th>Generosity</th>\n",
              "      <th>Perceptions of corruption</th>\n",
              "      <th>Positive affect</th>\n",
              "      <th>Negative affect</th>\n",
              "    </tr>\n",
              "  </thead>\n",
              "  <tbody>\n",
              "    <tr>\n",
              "      <th>0</th>\n",
              "      <td>Afghanistan</td>\n",
              "      <td>2008</td>\n",
              "      <td>3.723590</td>\n",
              "      <td>7.350416</td>\n",
              "      <td>0.450662</td>\n",
              "      <td>50.500000</td>\n",
              "      <td>0.718114</td>\n",
              "      <td>0.167652</td>\n",
              "      <td>0.881686</td>\n",
              "      <td>0.414297</td>\n",
              "      <td>0.258195</td>\n",
              "    </tr>\n",
              "    <tr>\n",
              "      <th>1</th>\n",
              "      <td>Afghanistan</td>\n",
              "      <td>2009</td>\n",
              "      <td>4.401778</td>\n",
              "      <td>7.508646</td>\n",
              "      <td>0.552308</td>\n",
              "      <td>50.799999</td>\n",
              "      <td>0.678896</td>\n",
              "      <td>0.190809</td>\n",
              "      <td>0.850035</td>\n",
              "      <td>0.481421</td>\n",
              "      <td>0.237092</td>\n",
              "    </tr>\n",
              "    <tr>\n",
              "      <th>2</th>\n",
              "      <td>Afghanistan</td>\n",
              "      <td>2010</td>\n",
              "      <td>4.758381</td>\n",
              "      <td>7.613900</td>\n",
              "      <td>0.539075</td>\n",
              "      <td>51.099998</td>\n",
              "      <td>0.600127</td>\n",
              "      <td>0.121316</td>\n",
              "      <td>0.706766</td>\n",
              "      <td>0.516907</td>\n",
              "      <td>0.275324</td>\n",
              "    </tr>\n",
              "    <tr>\n",
              "      <th>3</th>\n",
              "      <td>Afghanistan</td>\n",
              "      <td>2011</td>\n",
              "      <td>3.831719</td>\n",
              "      <td>7.581259</td>\n",
              "      <td>0.521104</td>\n",
              "      <td>51.400002</td>\n",
              "      <td>0.495901</td>\n",
              "      <td>0.163571</td>\n",
              "      <td>0.731109</td>\n",
              "      <td>0.479835</td>\n",
              "      <td>0.267175</td>\n",
              "    </tr>\n",
              "    <tr>\n",
              "      <th>4</th>\n",
              "      <td>Afghanistan</td>\n",
              "      <td>2012</td>\n",
              "      <td>3.782938</td>\n",
              "      <td>7.660506</td>\n",
              "      <td>0.520637</td>\n",
              "      <td>51.700001</td>\n",
              "      <td>0.530935</td>\n",
              "      <td>0.237588</td>\n",
              "      <td>0.775620</td>\n",
              "      <td>0.613513</td>\n",
              "      <td>0.267919</td>\n",
              "    </tr>\n",
              "    <tr>\n",
              "      <th>...</th>\n",
              "      <td>...</td>\n",
              "      <td>...</td>\n",
              "      <td>...</td>\n",
              "      <td>...</td>\n",
              "      <td>...</td>\n",
              "      <td>...</td>\n",
              "      <td>...</td>\n",
              "      <td>...</td>\n",
              "      <td>...</td>\n",
              "      <td>...</td>\n",
              "      <td>...</td>\n",
              "    </tr>\n",
              "    <tr>\n",
              "      <th>2194</th>\n",
              "      <td>Zimbabwe</td>\n",
              "      <td>2018</td>\n",
              "      <td>3.616480</td>\n",
              "      <td>7.783066</td>\n",
              "      <td>0.775388</td>\n",
              "      <td>52.625000</td>\n",
              "      <td>0.762675</td>\n",
              "      <td>-0.051219</td>\n",
              "      <td>0.844209</td>\n",
              "      <td>0.657524</td>\n",
              "      <td>0.211726</td>\n",
              "    </tr>\n",
              "    <tr>\n",
              "      <th>2195</th>\n",
              "      <td>Zimbabwe</td>\n",
              "      <td>2019</td>\n",
              "      <td>2.693523</td>\n",
              "      <td>7.697755</td>\n",
              "      <td>0.759162</td>\n",
              "      <td>53.099998</td>\n",
              "      <td>0.631908</td>\n",
              "      <td>-0.047464</td>\n",
              "      <td>0.830652</td>\n",
              "      <td>0.658434</td>\n",
              "      <td>0.235354</td>\n",
              "    </tr>\n",
              "    <tr>\n",
              "      <th>2196</th>\n",
              "      <td>Zimbabwe</td>\n",
              "      <td>2020</td>\n",
              "      <td>3.159802</td>\n",
              "      <td>7.596050</td>\n",
              "      <td>0.717243</td>\n",
              "      <td>53.575001</td>\n",
              "      <td>0.643303</td>\n",
              "      <td>0.006313</td>\n",
              "      <td>0.788523</td>\n",
              "      <td>0.660658</td>\n",
              "      <td>0.345736</td>\n",
              "    </tr>\n",
              "    <tr>\n",
              "      <th>2197</th>\n",
              "      <td>Zimbabwe</td>\n",
              "      <td>2021</td>\n",
              "      <td>3.154578</td>\n",
              "      <td>7.656878</td>\n",
              "      <td>0.685151</td>\n",
              "      <td>54.049999</td>\n",
              "      <td>0.667636</td>\n",
              "      <td>-0.075575</td>\n",
              "      <td>0.756945</td>\n",
              "      <td>0.609917</td>\n",
              "      <td>0.241682</td>\n",
              "    </tr>\n",
              "    <tr>\n",
              "      <th>2198</th>\n",
              "      <td>Zimbabwe</td>\n",
              "      <td>2022</td>\n",
              "      <td>3.296220</td>\n",
              "      <td>7.670123</td>\n",
              "      <td>0.666172</td>\n",
              "      <td>54.525002</td>\n",
              "      <td>0.651987</td>\n",
              "      <td>-0.069513</td>\n",
              "      <td>0.752632</td>\n",
              "      <td>0.640609</td>\n",
              "      <td>0.191350</td>\n",
              "    </tr>\n",
              "  </tbody>\n",
              "</table>\n",
              "<p>2199 rows × 11 columns</p>\n",
              "</div>\n",
              "      <button class=\"colab-df-convert\" onclick=\"convertToInteractive('df-1dab0bd0-1def-44f7-9f44-45c525142eab')\"\n",
              "              title=\"Convert this dataframe to an interactive table.\"\n",
              "              style=\"display:none;\">\n",
              "        \n",
              "  <svg xmlns=\"http://www.w3.org/2000/svg\" height=\"24px\"viewBox=\"0 0 24 24\"\n",
              "       width=\"24px\">\n",
              "    <path d=\"M0 0h24v24H0V0z\" fill=\"none\"/>\n",
              "    <path d=\"M18.56 5.44l.94 2.06.94-2.06 2.06-.94-2.06-.94-.94-2.06-.94 2.06-2.06.94zm-11 1L8.5 8.5l.94-2.06 2.06-.94-2.06-.94L8.5 2.5l-.94 2.06-2.06.94zm10 10l.94 2.06.94-2.06 2.06-.94-2.06-.94-.94-2.06-.94 2.06-2.06.94z\"/><path d=\"M17.41 7.96l-1.37-1.37c-.4-.4-.92-.59-1.43-.59-.52 0-1.04.2-1.43.59L10.3 9.45l-7.72 7.72c-.78.78-.78 2.05 0 2.83L4 21.41c.39.39.9.59 1.41.59.51 0 1.02-.2 1.41-.59l7.78-7.78 2.81-2.81c.8-.78.8-2.07 0-2.86zM5.41 20L4 18.59l7.72-7.72 1.47 1.35L5.41 20z\"/>\n",
              "  </svg>\n",
              "      </button>\n",
              "      \n",
              "  <style>\n",
              "    .colab-df-container {\n",
              "      display:flex;\n",
              "      flex-wrap:wrap;\n",
              "      gap: 12px;\n",
              "    }\n",
              "\n",
              "    .colab-df-convert {\n",
              "      background-color: #E8F0FE;\n",
              "      border: none;\n",
              "      border-radius: 50%;\n",
              "      cursor: pointer;\n",
              "      display: none;\n",
              "      fill: #1967D2;\n",
              "      height: 32px;\n",
              "      padding: 0 0 0 0;\n",
              "      width: 32px;\n",
              "    }\n",
              "\n",
              "    .colab-df-convert:hover {\n",
              "      background-color: #E2EBFA;\n",
              "      box-shadow: 0px 1px 2px rgba(60, 64, 67, 0.3), 0px 1px 3px 1px rgba(60, 64, 67, 0.15);\n",
              "      fill: #174EA6;\n",
              "    }\n",
              "\n",
              "    [theme=dark] .colab-df-convert {\n",
              "      background-color: #3B4455;\n",
              "      fill: #D2E3FC;\n",
              "    }\n",
              "\n",
              "    [theme=dark] .colab-df-convert:hover {\n",
              "      background-color: #434B5C;\n",
              "      box-shadow: 0px 1px 3px 1px rgba(0, 0, 0, 0.15);\n",
              "      filter: drop-shadow(0px 1px 2px rgba(0, 0, 0, 0.3));\n",
              "      fill: #FFFFFF;\n",
              "    }\n",
              "  </style>\n",
              "\n",
              "      <script>\n",
              "        const buttonEl =\n",
              "          document.querySelector('#df-1dab0bd0-1def-44f7-9f44-45c525142eab button.colab-df-convert');\n",
              "        buttonEl.style.display =\n",
              "          google.colab.kernel.accessAllowed ? 'block' : 'none';\n",
              "\n",
              "        async function convertToInteractive(key) {\n",
              "          const element = document.querySelector('#df-1dab0bd0-1def-44f7-9f44-45c525142eab');\n",
              "          const dataTable =\n",
              "            await google.colab.kernel.invokeFunction('convertToInteractive',\n",
              "                                                     [key], {});\n",
              "          if (!dataTable) return;\n",
              "\n",
              "          const docLinkHtml = 'Like what you see? Visit the ' +\n",
              "            '<a target=\"_blank\" href=https://colab.research.google.com/notebooks/data_table.ipynb>data table notebook</a>'\n",
              "            + ' to learn more about interactive tables.';\n",
              "          element.innerHTML = '';\n",
              "          dataTable['output_type'] = 'display_data';\n",
              "          await google.colab.output.renderOutput(dataTable, element);\n",
              "          const docLink = document.createElement('div');\n",
              "          docLink.innerHTML = docLinkHtml;\n",
              "          element.appendChild(docLink);\n",
              "        }\n",
              "      </script>\n",
              "    </div>\n",
              "  </div>\n",
              "  "
            ]
          },
          "metadata": {},
          "execution_count": 456
        }
      ]
    },
    {
      "cell_type": "code",
      "source": [
        "whr_df.info()"
      ],
      "metadata": {
        "colab": {
          "base_uri": "https://localhost:8080/"
        },
        "id": "BUnIfpJsDv6m",
        "outputId": "3df733a7-4105-4b66-b6ae-ca8a15bdf186"
      },
      "execution_count": 457,
      "outputs": [
        {
          "output_type": "stream",
          "name": "stdout",
          "text": [
            "<class 'pandas.core.frame.DataFrame'>\n",
            "RangeIndex: 2199 entries, 0 to 2198\n",
            "Data columns (total 11 columns):\n",
            " #   Column                            Non-Null Count  Dtype  \n",
            "---  ------                            --------------  -----  \n",
            " 0   Country name                      2199 non-null   object \n",
            " 1   year                              2199 non-null   int64  \n",
            " 2   Life Ladder                       2199 non-null   float64\n",
            " 3   Log GDP per capita                2179 non-null   float64\n",
            " 4   Social support                    2186 non-null   float64\n",
            " 5   Healthy life expectancy at birth  2145 non-null   float64\n",
            " 6   Freedom to make life choices      2166 non-null   float64\n",
            " 7   Generosity                        2126 non-null   float64\n",
            " 8   Perceptions of corruption         2083 non-null   float64\n",
            " 9   Positive affect                   2175 non-null   float64\n",
            " 10  Negative affect                   2183 non-null   float64\n",
            "dtypes: float64(9), int64(1), object(1)\n",
            "memory usage: 189.1+ KB\n"
          ]
        }
      ]
    },
    {
      "cell_type": "markdown",
      "source": [
        "Com as primeiras informações observadas é verificado que os dados foram caregados sem problemas e que existem 2199 registros e 11 colunas de atributos. \n",
        "\n",
        "As colunas **Country name**, **year** e **Life Ladder** não possuem dados faltantes e os tipos dos atributos estão de acordo com o dado, sem necessidade de ajustes."
      ],
      "metadata": {
        "id": "4ZXh5WySPGob"
      }
    },
    {
      "cell_type": "markdown",
      "source": [
        "**Quantos países existem no dataset?**"
      ],
      "metadata": {
        "id": "WZOy-SqyFaIe"
      }
    },
    {
      "cell_type": "code",
      "source": [
        "whr_df['Country name'].nunique()"
      ],
      "metadata": {
        "colab": {
          "base_uri": "https://localhost:8080/"
        },
        "id": "DSDZFZ6hFd08",
        "outputId": "8c4b60eb-917c-4821-c0ad-8b1c26f061eb"
      },
      "execution_count": 458,
      "outputs": [
        {
          "output_type": "execute_result",
          "data": {
            "text/plain": [
              "165"
            ]
          },
          "metadata": {},
          "execution_count": 458
        }
      ]
    },
    {
      "cell_type": "markdown",
      "source": [
        "**Quantos países possuem dados faltantes?**"
      ],
      "metadata": {
        "id": "lZ8Y8vn6nI4N"
      }
    },
    {
      "cell_type": "code",
      "source": [
        "whr_df_nona = whr_df.dropna()"
      ],
      "metadata": {
        "id": "Rag3Cp9skuLZ"
      },
      "execution_count": 459,
      "outputs": []
    },
    {
      "cell_type": "code",
      "source": [
        "whr_df_nona.info()"
      ],
      "metadata": {
        "colab": {
          "base_uri": "https://localhost:8080/"
        },
        "id": "VIMRUiCnk5Ft",
        "outputId": "d57c052b-63e4-4141-e6ca-d2e60d369609"
      },
      "execution_count": 460,
      "outputs": [
        {
          "output_type": "stream",
          "name": "stdout",
          "text": [
            "<class 'pandas.core.frame.DataFrame'>\n",
            "Int64Index: 1958 entries, 0 to 2198\n",
            "Data columns (total 11 columns):\n",
            " #   Column                            Non-Null Count  Dtype  \n",
            "---  ------                            --------------  -----  \n",
            " 0   Country name                      1958 non-null   object \n",
            " 1   year                              1958 non-null   int64  \n",
            " 2   Life Ladder                       1958 non-null   float64\n",
            " 3   Log GDP per capita                1958 non-null   float64\n",
            " 4   Social support                    1958 non-null   float64\n",
            " 5   Healthy life expectancy at birth  1958 non-null   float64\n",
            " 6   Freedom to make life choices      1958 non-null   float64\n",
            " 7   Generosity                        1958 non-null   float64\n",
            " 8   Perceptions of corruption         1958 non-null   float64\n",
            " 9   Positive affect                   1958 non-null   float64\n",
            " 10  Negative affect                   1958 non-null   float64\n",
            "dtypes: float64(9), int64(1), object(1)\n",
            "memory usage: 183.6+ KB\n"
          ]
        }
      ]
    },
    {
      "cell_type": "code",
      "source": [
        "whr_df_nona['Country name'].nunique()"
      ],
      "metadata": {
        "colab": {
          "base_uri": "https://localhost:8080/"
        },
        "id": "U3q8ex97k0iB",
        "outputId": "9457ae8e-f8a0-4210-cf19-b94783742489"
      },
      "execution_count": 461,
      "outputs": [
        {
          "output_type": "execute_result",
          "data": {
            "text/plain": [
              "156"
            ]
          },
          "metadata": {},
          "execution_count": 461
        }
      ]
    },
    {
      "cell_type": "markdown",
      "source": [
        "Agora há 156 países no dataset.\n",
        "\n",
        "Logo, conclue-se que 9 países possuem dados faltantes."
      ],
      "metadata": {
        "id": "bnEgQ9G3naC5"
      }
    },
    {
      "cell_type": "markdown",
      "source": [
        "**Quais são esses países?**"
      ],
      "metadata": {
        "id": "XB_sDZ3Jnt01"
      }
    },
    {
      "cell_type": "code",
      "source": [
        "paises = whr_df['Country name'].unique()\n",
        "paises_nona = whr_df_nona['Country name'].unique()"
      ],
      "metadata": {
        "id": "Q3KxP22-nu8H"
      },
      "execution_count": 462,
      "outputs": []
    },
    {
      "cell_type": "code",
      "source": [
        "set(paises).difference(paises_nona)"
      ],
      "metadata": {
        "colab": {
          "base_uri": "https://localhost:8080/"
        },
        "id": "dta-K-X6n54D",
        "outputId": "fdc9c220-7885-46b4-a9c7-a893170d7944"
      },
      "execution_count": 463,
      "outputs": [
        {
          "output_type": "execute_result",
          "data": {
            "text/plain": [
              "{'China',\n",
              " 'Cuba',\n",
              " 'Hong Kong S.A.R. of China',\n",
              " 'Kosovo',\n",
              " 'Maldives',\n",
              " 'Oman',\n",
              " 'Somaliland region',\n",
              " 'South Sudan',\n",
              " 'Turkmenistan'}"
            ]
          },
          "metadata": {},
          "execution_count": 463
        }
      ]
    },
    {
      "cell_type": "markdown",
      "source": [
        "Com a análise acima é verificado que a maioria dos países com dados faltantes possuem regimes políticos não tão confiáveis, o que justifica a falta de alguns dados.\n",
        "\n",
        "Logo, esses países serão desconsiderados da análise."
      ],
      "metadata": {
        "id": "8NtCsJXvowmb"
      }
    },
    {
      "cell_type": "code",
      "source": [
        "whr_df = whr_df.dropna()"
      ],
      "metadata": {
        "id": "9zhFH13TlDQt"
      },
      "execution_count": 464,
      "outputs": []
    },
    {
      "cell_type": "code",
      "source": [
        "whr_df.shape"
      ],
      "metadata": {
        "colab": {
          "base_uri": "https://localhost:8080/"
        },
        "id": "7vU-EArjpjye",
        "outputId": "ec2a28b5-eb1d-4c4a-e910-90a1edc5dc65"
      },
      "execution_count": 465,
      "outputs": [
        {
          "output_type": "execute_result",
          "data": {
            "text/plain": [
              "(1958, 11)"
            ]
          },
          "metadata": {},
          "execution_count": 465
        }
      ]
    },
    {
      "cell_type": "markdown",
      "source": [
        "**Em quais anos os dados foram amostrados?**"
      ],
      "metadata": {
        "id": "KwYmV5JKredA"
      }
    },
    {
      "cell_type": "code",
      "source": [
        "np.sort(whr_df['year'].unique())"
      ],
      "metadata": {
        "colab": {
          "base_uri": "https://localhost:8080/"
        },
        "id": "AanrB3ukqrtk",
        "outputId": "1c56ac35-4774-416c-d693-b43cee421475"
      },
      "execution_count": 466,
      "outputs": [
        {
          "output_type": "execute_result",
          "data": {
            "text/plain": [
              "array([2005, 2006, 2007, 2008, 2009, 2010, 2011, 2012, 2013, 2014, 2015,\n",
              "       2016, 2017, 2018, 2019, 2020, 2021, 2022])"
            ]
          },
          "metadata": {},
          "execution_count": 466
        }
      ]
    },
    {
      "cell_type": "code",
      "source": [
        "whr_df[['Country name', 'year']].groupby('year').count()"
      ],
      "metadata": {
        "colab": {
          "base_uri": "https://localhost:8080/",
          "height": 645
        },
        "id": "Yj_DBhXiry0e",
        "outputId": "d162050d-6bcf-4746-9e2c-13a35e37ea56"
      },
      "execution_count": 467,
      "outputs": [
        {
          "output_type": "execute_result",
          "data": {
            "text/plain": [
              "      Country name\n",
              "year              \n",
              "2005             1\n",
              "2006            74\n",
              "2007            92\n",
              "2008           101\n",
              "2009           106\n",
              "2010           112\n",
              "2011           132\n",
              "2012           121\n",
              "2013           124\n",
              "2014           129\n",
              "2015           128\n",
              "2016           125\n",
              "2017           132\n",
              "2018           129\n",
              "2019           129\n",
              "2020           105\n",
              "2021           114\n",
              "2022           104"
            ],
            "text/html": [
              "\n",
              "  <div id=\"df-4ee97d49-c9a4-4388-a4fb-c4dd1a85120d\">\n",
              "    <div class=\"colab-df-container\">\n",
              "      <div>\n",
              "<style scoped>\n",
              "    .dataframe tbody tr th:only-of-type {\n",
              "        vertical-align: middle;\n",
              "    }\n",
              "\n",
              "    .dataframe tbody tr th {\n",
              "        vertical-align: top;\n",
              "    }\n",
              "\n",
              "    .dataframe thead th {\n",
              "        text-align: right;\n",
              "    }\n",
              "</style>\n",
              "<table border=\"1\" class=\"dataframe\">\n",
              "  <thead>\n",
              "    <tr style=\"text-align: right;\">\n",
              "      <th></th>\n",
              "      <th>Country name</th>\n",
              "    </tr>\n",
              "    <tr>\n",
              "      <th>year</th>\n",
              "      <th></th>\n",
              "    </tr>\n",
              "  </thead>\n",
              "  <tbody>\n",
              "    <tr>\n",
              "      <th>2005</th>\n",
              "      <td>1</td>\n",
              "    </tr>\n",
              "    <tr>\n",
              "      <th>2006</th>\n",
              "      <td>74</td>\n",
              "    </tr>\n",
              "    <tr>\n",
              "      <th>2007</th>\n",
              "      <td>92</td>\n",
              "    </tr>\n",
              "    <tr>\n",
              "      <th>2008</th>\n",
              "      <td>101</td>\n",
              "    </tr>\n",
              "    <tr>\n",
              "      <th>2009</th>\n",
              "      <td>106</td>\n",
              "    </tr>\n",
              "    <tr>\n",
              "      <th>2010</th>\n",
              "      <td>112</td>\n",
              "    </tr>\n",
              "    <tr>\n",
              "      <th>2011</th>\n",
              "      <td>132</td>\n",
              "    </tr>\n",
              "    <tr>\n",
              "      <th>2012</th>\n",
              "      <td>121</td>\n",
              "    </tr>\n",
              "    <tr>\n",
              "      <th>2013</th>\n",
              "      <td>124</td>\n",
              "    </tr>\n",
              "    <tr>\n",
              "      <th>2014</th>\n",
              "      <td>129</td>\n",
              "    </tr>\n",
              "    <tr>\n",
              "      <th>2015</th>\n",
              "      <td>128</td>\n",
              "    </tr>\n",
              "    <tr>\n",
              "      <th>2016</th>\n",
              "      <td>125</td>\n",
              "    </tr>\n",
              "    <tr>\n",
              "      <th>2017</th>\n",
              "      <td>132</td>\n",
              "    </tr>\n",
              "    <tr>\n",
              "      <th>2018</th>\n",
              "      <td>129</td>\n",
              "    </tr>\n",
              "    <tr>\n",
              "      <th>2019</th>\n",
              "      <td>129</td>\n",
              "    </tr>\n",
              "    <tr>\n",
              "      <th>2020</th>\n",
              "      <td>105</td>\n",
              "    </tr>\n",
              "    <tr>\n",
              "      <th>2021</th>\n",
              "      <td>114</td>\n",
              "    </tr>\n",
              "    <tr>\n",
              "      <th>2022</th>\n",
              "      <td>104</td>\n",
              "    </tr>\n",
              "  </tbody>\n",
              "</table>\n",
              "</div>\n",
              "      <button class=\"colab-df-convert\" onclick=\"convertToInteractive('df-4ee97d49-c9a4-4388-a4fb-c4dd1a85120d')\"\n",
              "              title=\"Convert this dataframe to an interactive table.\"\n",
              "              style=\"display:none;\">\n",
              "        \n",
              "  <svg xmlns=\"http://www.w3.org/2000/svg\" height=\"24px\"viewBox=\"0 0 24 24\"\n",
              "       width=\"24px\">\n",
              "    <path d=\"M0 0h24v24H0V0z\" fill=\"none\"/>\n",
              "    <path d=\"M18.56 5.44l.94 2.06.94-2.06 2.06-.94-2.06-.94-.94-2.06-.94 2.06-2.06.94zm-11 1L8.5 8.5l.94-2.06 2.06-.94-2.06-.94L8.5 2.5l-.94 2.06-2.06.94zm10 10l.94 2.06.94-2.06 2.06-.94-2.06-.94-.94-2.06-.94 2.06-2.06.94z\"/><path d=\"M17.41 7.96l-1.37-1.37c-.4-.4-.92-.59-1.43-.59-.52 0-1.04.2-1.43.59L10.3 9.45l-7.72 7.72c-.78.78-.78 2.05 0 2.83L4 21.41c.39.39.9.59 1.41.59.51 0 1.02-.2 1.41-.59l7.78-7.78 2.81-2.81c.8-.78.8-2.07 0-2.86zM5.41 20L4 18.59l7.72-7.72 1.47 1.35L5.41 20z\"/>\n",
              "  </svg>\n",
              "      </button>\n",
              "      \n",
              "  <style>\n",
              "    .colab-df-container {\n",
              "      display:flex;\n",
              "      flex-wrap:wrap;\n",
              "      gap: 12px;\n",
              "    }\n",
              "\n",
              "    .colab-df-convert {\n",
              "      background-color: #E8F0FE;\n",
              "      border: none;\n",
              "      border-radius: 50%;\n",
              "      cursor: pointer;\n",
              "      display: none;\n",
              "      fill: #1967D2;\n",
              "      height: 32px;\n",
              "      padding: 0 0 0 0;\n",
              "      width: 32px;\n",
              "    }\n",
              "\n",
              "    .colab-df-convert:hover {\n",
              "      background-color: #E2EBFA;\n",
              "      box-shadow: 0px 1px 2px rgba(60, 64, 67, 0.3), 0px 1px 3px 1px rgba(60, 64, 67, 0.15);\n",
              "      fill: #174EA6;\n",
              "    }\n",
              "\n",
              "    [theme=dark] .colab-df-convert {\n",
              "      background-color: #3B4455;\n",
              "      fill: #D2E3FC;\n",
              "    }\n",
              "\n",
              "    [theme=dark] .colab-df-convert:hover {\n",
              "      background-color: #434B5C;\n",
              "      box-shadow: 0px 1px 3px 1px rgba(0, 0, 0, 0.15);\n",
              "      filter: drop-shadow(0px 1px 2px rgba(0, 0, 0, 0.3));\n",
              "      fill: #FFFFFF;\n",
              "    }\n",
              "  </style>\n",
              "\n",
              "      <script>\n",
              "        const buttonEl =\n",
              "          document.querySelector('#df-4ee97d49-c9a4-4388-a4fb-c4dd1a85120d button.colab-df-convert');\n",
              "        buttonEl.style.display =\n",
              "          google.colab.kernel.accessAllowed ? 'block' : 'none';\n",
              "\n",
              "        async function convertToInteractive(key) {\n",
              "          const element = document.querySelector('#df-4ee97d49-c9a4-4388-a4fb-c4dd1a85120d');\n",
              "          const dataTable =\n",
              "            await google.colab.kernel.invokeFunction('convertToInteractive',\n",
              "                                                     [key], {});\n",
              "          if (!dataTable) return;\n",
              "\n",
              "          const docLinkHtml = 'Like what you see? Visit the ' +\n",
              "            '<a target=\"_blank\" href=https://colab.research.google.com/notebooks/data_table.ipynb>data table notebook</a>'\n",
              "            + ' to learn more about interactive tables.';\n",
              "          element.innerHTML = '';\n",
              "          dataTable['output_type'] = 'display_data';\n",
              "          await google.colab.output.renderOutput(dataTable, element);\n",
              "          const docLink = document.createElement('div');\n",
              "          docLink.innerHTML = docLinkHtml;\n",
              "          element.appendChild(docLink);\n",
              "        }\n",
              "      </script>\n",
              "    </div>\n",
              "  </div>\n",
              "  "
            ]
          },
          "metadata": {},
          "execution_count": 467
        }
      ]
    },
    {
      "cell_type": "markdown",
      "source": [
        "Com os dados agrupados por ano é verificado que a quantidade de países varia em cada ano.\n",
        "\n",
        "2005, 2006 e 2007 possuem uma quantidade de países bem diferente dos outros anos. Assim os anos com menos de 100 países serão desconsiderados."
      ],
      "metadata": {
        "id": "LG6eGHH7sDJa"
      }
    },
    {
      "cell_type": "code",
      "source": [
        "whr_df = whr_df[whr_df['year'] > 2007]\n",
        "whr_df"
      ],
      "metadata": {
        "colab": {
          "base_uri": "https://localhost:8080/",
          "height": 485
        },
        "id": "Vau6gvAmsuia",
        "outputId": "6fd75c12-563a-4bb3-efda-e5aaade72ddd"
      },
      "execution_count": 468,
      "outputs": [
        {
          "output_type": "execute_result",
          "data": {
            "text/plain": [
              "     Country name  year  Life Ladder  Log GDP per capita  Social support  \\\n",
              "0     Afghanistan  2008     3.723590            7.350416        0.450662   \n",
              "1     Afghanistan  2009     4.401778            7.508646        0.552308   \n",
              "2     Afghanistan  2010     4.758381            7.613900        0.539075   \n",
              "3     Afghanistan  2011     3.831719            7.581259        0.521104   \n",
              "4     Afghanistan  2012     3.782938            7.660506        0.520637   \n",
              "...           ...   ...          ...                 ...             ...   \n",
              "2194     Zimbabwe  2018     3.616480            7.783066        0.775388   \n",
              "2195     Zimbabwe  2019     2.693523            7.697755        0.759162   \n",
              "2196     Zimbabwe  2020     3.159802            7.596050        0.717243   \n",
              "2197     Zimbabwe  2021     3.154578            7.656878        0.685151   \n",
              "2198     Zimbabwe  2022     3.296220            7.670123        0.666172   \n",
              "\n",
              "      Healthy life expectancy at birth  Freedom to make life choices  \\\n",
              "0                            50.500000                      0.718114   \n",
              "1                            50.799999                      0.678896   \n",
              "2                            51.099998                      0.600127   \n",
              "3                            51.400002                      0.495901   \n",
              "4                            51.700001                      0.530935   \n",
              "...                                ...                           ...   \n",
              "2194                         52.625000                      0.762675   \n",
              "2195                         53.099998                      0.631908   \n",
              "2196                         53.575001                      0.643303   \n",
              "2197                         54.049999                      0.667636   \n",
              "2198                         54.525002                      0.651987   \n",
              "\n",
              "      Generosity  Perceptions of corruption  Positive affect  Negative affect  \n",
              "0       0.167652                   0.881686         0.414297         0.258195  \n",
              "1       0.190809                   0.850035         0.481421         0.237092  \n",
              "2       0.121316                   0.706766         0.516907         0.275324  \n",
              "3       0.163571                   0.731109         0.479835         0.267175  \n",
              "4       0.237588                   0.775620         0.613513         0.267919  \n",
              "...          ...                        ...              ...              ...  \n",
              "2194   -0.051219                   0.844209         0.657524         0.211726  \n",
              "2195   -0.047464                   0.830652         0.658434         0.235354  \n",
              "2196    0.006313                   0.788523         0.660658         0.345736  \n",
              "2197   -0.075575                   0.756945         0.609917         0.241682  \n",
              "2198   -0.069513                   0.752632         0.640609         0.191350  \n",
              "\n",
              "[1791 rows x 11 columns]"
            ],
            "text/html": [
              "\n",
              "  <div id=\"df-3eda9f45-5798-4078-83cc-3fdfaa9fa552\">\n",
              "    <div class=\"colab-df-container\">\n",
              "      <div>\n",
              "<style scoped>\n",
              "    .dataframe tbody tr th:only-of-type {\n",
              "        vertical-align: middle;\n",
              "    }\n",
              "\n",
              "    .dataframe tbody tr th {\n",
              "        vertical-align: top;\n",
              "    }\n",
              "\n",
              "    .dataframe thead th {\n",
              "        text-align: right;\n",
              "    }\n",
              "</style>\n",
              "<table border=\"1\" class=\"dataframe\">\n",
              "  <thead>\n",
              "    <tr style=\"text-align: right;\">\n",
              "      <th></th>\n",
              "      <th>Country name</th>\n",
              "      <th>year</th>\n",
              "      <th>Life Ladder</th>\n",
              "      <th>Log GDP per capita</th>\n",
              "      <th>Social support</th>\n",
              "      <th>Healthy life expectancy at birth</th>\n",
              "      <th>Freedom to make life choices</th>\n",
              "      <th>Generosity</th>\n",
              "      <th>Perceptions of corruption</th>\n",
              "      <th>Positive affect</th>\n",
              "      <th>Negative affect</th>\n",
              "    </tr>\n",
              "  </thead>\n",
              "  <tbody>\n",
              "    <tr>\n",
              "      <th>0</th>\n",
              "      <td>Afghanistan</td>\n",
              "      <td>2008</td>\n",
              "      <td>3.723590</td>\n",
              "      <td>7.350416</td>\n",
              "      <td>0.450662</td>\n",
              "      <td>50.500000</td>\n",
              "      <td>0.718114</td>\n",
              "      <td>0.167652</td>\n",
              "      <td>0.881686</td>\n",
              "      <td>0.414297</td>\n",
              "      <td>0.258195</td>\n",
              "    </tr>\n",
              "    <tr>\n",
              "      <th>1</th>\n",
              "      <td>Afghanistan</td>\n",
              "      <td>2009</td>\n",
              "      <td>4.401778</td>\n",
              "      <td>7.508646</td>\n",
              "      <td>0.552308</td>\n",
              "      <td>50.799999</td>\n",
              "      <td>0.678896</td>\n",
              "      <td>0.190809</td>\n",
              "      <td>0.850035</td>\n",
              "      <td>0.481421</td>\n",
              "      <td>0.237092</td>\n",
              "    </tr>\n",
              "    <tr>\n",
              "      <th>2</th>\n",
              "      <td>Afghanistan</td>\n",
              "      <td>2010</td>\n",
              "      <td>4.758381</td>\n",
              "      <td>7.613900</td>\n",
              "      <td>0.539075</td>\n",
              "      <td>51.099998</td>\n",
              "      <td>0.600127</td>\n",
              "      <td>0.121316</td>\n",
              "      <td>0.706766</td>\n",
              "      <td>0.516907</td>\n",
              "      <td>0.275324</td>\n",
              "    </tr>\n",
              "    <tr>\n",
              "      <th>3</th>\n",
              "      <td>Afghanistan</td>\n",
              "      <td>2011</td>\n",
              "      <td>3.831719</td>\n",
              "      <td>7.581259</td>\n",
              "      <td>0.521104</td>\n",
              "      <td>51.400002</td>\n",
              "      <td>0.495901</td>\n",
              "      <td>0.163571</td>\n",
              "      <td>0.731109</td>\n",
              "      <td>0.479835</td>\n",
              "      <td>0.267175</td>\n",
              "    </tr>\n",
              "    <tr>\n",
              "      <th>4</th>\n",
              "      <td>Afghanistan</td>\n",
              "      <td>2012</td>\n",
              "      <td>3.782938</td>\n",
              "      <td>7.660506</td>\n",
              "      <td>0.520637</td>\n",
              "      <td>51.700001</td>\n",
              "      <td>0.530935</td>\n",
              "      <td>0.237588</td>\n",
              "      <td>0.775620</td>\n",
              "      <td>0.613513</td>\n",
              "      <td>0.267919</td>\n",
              "    </tr>\n",
              "    <tr>\n",
              "      <th>...</th>\n",
              "      <td>...</td>\n",
              "      <td>...</td>\n",
              "      <td>...</td>\n",
              "      <td>...</td>\n",
              "      <td>...</td>\n",
              "      <td>...</td>\n",
              "      <td>...</td>\n",
              "      <td>...</td>\n",
              "      <td>...</td>\n",
              "      <td>...</td>\n",
              "      <td>...</td>\n",
              "    </tr>\n",
              "    <tr>\n",
              "      <th>2194</th>\n",
              "      <td>Zimbabwe</td>\n",
              "      <td>2018</td>\n",
              "      <td>3.616480</td>\n",
              "      <td>7.783066</td>\n",
              "      <td>0.775388</td>\n",
              "      <td>52.625000</td>\n",
              "      <td>0.762675</td>\n",
              "      <td>-0.051219</td>\n",
              "      <td>0.844209</td>\n",
              "      <td>0.657524</td>\n",
              "      <td>0.211726</td>\n",
              "    </tr>\n",
              "    <tr>\n",
              "      <th>2195</th>\n",
              "      <td>Zimbabwe</td>\n",
              "      <td>2019</td>\n",
              "      <td>2.693523</td>\n",
              "      <td>7.697755</td>\n",
              "      <td>0.759162</td>\n",
              "      <td>53.099998</td>\n",
              "      <td>0.631908</td>\n",
              "      <td>-0.047464</td>\n",
              "      <td>0.830652</td>\n",
              "      <td>0.658434</td>\n",
              "      <td>0.235354</td>\n",
              "    </tr>\n",
              "    <tr>\n",
              "      <th>2196</th>\n",
              "      <td>Zimbabwe</td>\n",
              "      <td>2020</td>\n",
              "      <td>3.159802</td>\n",
              "      <td>7.596050</td>\n",
              "      <td>0.717243</td>\n",
              "      <td>53.575001</td>\n",
              "      <td>0.643303</td>\n",
              "      <td>0.006313</td>\n",
              "      <td>0.788523</td>\n",
              "      <td>0.660658</td>\n",
              "      <td>0.345736</td>\n",
              "    </tr>\n",
              "    <tr>\n",
              "      <th>2197</th>\n",
              "      <td>Zimbabwe</td>\n",
              "      <td>2021</td>\n",
              "      <td>3.154578</td>\n",
              "      <td>7.656878</td>\n",
              "      <td>0.685151</td>\n",
              "      <td>54.049999</td>\n",
              "      <td>0.667636</td>\n",
              "      <td>-0.075575</td>\n",
              "      <td>0.756945</td>\n",
              "      <td>0.609917</td>\n",
              "      <td>0.241682</td>\n",
              "    </tr>\n",
              "    <tr>\n",
              "      <th>2198</th>\n",
              "      <td>Zimbabwe</td>\n",
              "      <td>2022</td>\n",
              "      <td>3.296220</td>\n",
              "      <td>7.670123</td>\n",
              "      <td>0.666172</td>\n",
              "      <td>54.525002</td>\n",
              "      <td>0.651987</td>\n",
              "      <td>-0.069513</td>\n",
              "      <td>0.752632</td>\n",
              "      <td>0.640609</td>\n",
              "      <td>0.191350</td>\n",
              "    </tr>\n",
              "  </tbody>\n",
              "</table>\n",
              "<p>1791 rows × 11 columns</p>\n",
              "</div>\n",
              "      <button class=\"colab-df-convert\" onclick=\"convertToInteractive('df-3eda9f45-5798-4078-83cc-3fdfaa9fa552')\"\n",
              "              title=\"Convert this dataframe to an interactive table.\"\n",
              "              style=\"display:none;\">\n",
              "        \n",
              "  <svg xmlns=\"http://www.w3.org/2000/svg\" height=\"24px\"viewBox=\"0 0 24 24\"\n",
              "       width=\"24px\">\n",
              "    <path d=\"M0 0h24v24H0V0z\" fill=\"none\"/>\n",
              "    <path d=\"M18.56 5.44l.94 2.06.94-2.06 2.06-.94-2.06-.94-.94-2.06-.94 2.06-2.06.94zm-11 1L8.5 8.5l.94-2.06 2.06-.94-2.06-.94L8.5 2.5l-.94 2.06-2.06.94zm10 10l.94 2.06.94-2.06 2.06-.94-2.06-.94-.94-2.06-.94 2.06-2.06.94z\"/><path d=\"M17.41 7.96l-1.37-1.37c-.4-.4-.92-.59-1.43-.59-.52 0-1.04.2-1.43.59L10.3 9.45l-7.72 7.72c-.78.78-.78 2.05 0 2.83L4 21.41c.39.39.9.59 1.41.59.51 0 1.02-.2 1.41-.59l7.78-7.78 2.81-2.81c.8-.78.8-2.07 0-2.86zM5.41 20L4 18.59l7.72-7.72 1.47 1.35L5.41 20z\"/>\n",
              "  </svg>\n",
              "      </button>\n",
              "      \n",
              "  <style>\n",
              "    .colab-df-container {\n",
              "      display:flex;\n",
              "      flex-wrap:wrap;\n",
              "      gap: 12px;\n",
              "    }\n",
              "\n",
              "    .colab-df-convert {\n",
              "      background-color: #E8F0FE;\n",
              "      border: none;\n",
              "      border-radius: 50%;\n",
              "      cursor: pointer;\n",
              "      display: none;\n",
              "      fill: #1967D2;\n",
              "      height: 32px;\n",
              "      padding: 0 0 0 0;\n",
              "      width: 32px;\n",
              "    }\n",
              "\n",
              "    .colab-df-convert:hover {\n",
              "      background-color: #E2EBFA;\n",
              "      box-shadow: 0px 1px 2px rgba(60, 64, 67, 0.3), 0px 1px 3px 1px rgba(60, 64, 67, 0.15);\n",
              "      fill: #174EA6;\n",
              "    }\n",
              "\n",
              "    [theme=dark] .colab-df-convert {\n",
              "      background-color: #3B4455;\n",
              "      fill: #D2E3FC;\n",
              "    }\n",
              "\n",
              "    [theme=dark] .colab-df-convert:hover {\n",
              "      background-color: #434B5C;\n",
              "      box-shadow: 0px 1px 3px 1px rgba(0, 0, 0, 0.15);\n",
              "      filter: drop-shadow(0px 1px 2px rgba(0, 0, 0, 0.3));\n",
              "      fill: #FFFFFF;\n",
              "    }\n",
              "  </style>\n",
              "\n",
              "      <script>\n",
              "        const buttonEl =\n",
              "          document.querySelector('#df-3eda9f45-5798-4078-83cc-3fdfaa9fa552 button.colab-df-convert');\n",
              "        buttonEl.style.display =\n",
              "          google.colab.kernel.accessAllowed ? 'block' : 'none';\n",
              "\n",
              "        async function convertToInteractive(key) {\n",
              "          const element = document.querySelector('#df-3eda9f45-5798-4078-83cc-3fdfaa9fa552');\n",
              "          const dataTable =\n",
              "            await google.colab.kernel.invokeFunction('convertToInteractive',\n",
              "                                                     [key], {});\n",
              "          if (!dataTable) return;\n",
              "\n",
              "          const docLinkHtml = 'Like what you see? Visit the ' +\n",
              "            '<a target=\"_blank\" href=https://colab.research.google.com/notebooks/data_table.ipynb>data table notebook</a>'\n",
              "            + ' to learn more about interactive tables.';\n",
              "          element.innerHTML = '';\n",
              "          dataTable['output_type'] = 'display_data';\n",
              "          await google.colab.output.renderOutput(dataTable, element);\n",
              "          const docLink = document.createElement('div');\n",
              "          docLink.innerHTML = docLinkHtml;\n",
              "          element.appendChild(docLink);\n",
              "        }\n",
              "      </script>\n",
              "    </div>\n",
              "  </div>\n",
              "  "
            ]
          },
          "metadata": {},
          "execution_count": 468
        }
      ]
    },
    {
      "cell_type": "markdown",
      "source": [
        "**Agrupando os dados dos países**\n",
        "\n",
        "A última etapa de transformação dos dados é clacular a média de cada índice por país. Esta é uma forma interessante de sumarizar as informações, já que a informação de tempo não é tão relevante para as perguntas de negócio."
      ],
      "metadata": {
        "id": "ebJkUx0jwDmo"
      }
    },
    {
      "cell_type": "code",
      "source": [
        "whr_df_grouped = whr_df.groupby('Country name').mean()\n",
        "whr_df_grouped = whr_df_grouped.drop(['year'], axis=1)\n",
        "whr_df_grouped"
      ],
      "metadata": {
        "colab": {
          "base_uri": "https://localhost:8080/",
          "height": 534
        },
        "id": "ruLN_Yc1wYeq",
        "outputId": "cc249c8e-37a2-4ed8-d090-79bf9b8393dc"
      },
      "execution_count": 469,
      "outputs": [
        {
          "output_type": "execute_result",
          "data": {
            "text/plain": [
              "              Life Ladder  Log GDP per capita  Social support  \\\n",
              "Country name                                                    \n",
              "Afghanistan      3.505506            7.585588        0.504086   \n",
              "Albania          5.077571            9.416613        0.708336   \n",
              "Algeria          5.230456            9.336277        0.823808   \n",
              "Angola           4.420299            8.985655        0.737973   \n",
              "Argentina        6.295712           10.037832        0.902754   \n",
              "...                   ...                 ...             ...   \n",
              "Venezuela        6.002285            8.455210        0.912044   \n",
              "Vietnam          5.458287            8.997615        0.819746   \n",
              "Yemen            3.932129            8.010700        0.720856   \n",
              "Zambia           4.460374            8.081674        0.727828   \n",
              "Zimbabwe         3.838975            7.634978        0.779578   \n",
              "\n",
              "              Healthy life expectancy at birth  Freedom to make life choices  \\\n",
              "Country name                                                                   \n",
              "Afghanistan                          52.353846                      0.508496   \n",
              "Albania                              68.630001                      0.694135   \n",
              "Algeria                              66.185714                      0.521962   \n",
              "Angola                               52.150001                      0.455957   \n",
              "Argentina                            66.769333                      0.785509   \n",
              "...                                        ...                           ...   \n",
              "Venezuela                            65.047500                      0.645630   \n",
              "Vietnam                              64.936666                      0.893443   \n",
              "Yemen                                58.318333                      0.629779   \n",
              "Zambia                               52.218847                      0.771045   \n",
              "Zimbabwe                             49.846667                      0.616686   \n",
              "\n",
              "              Generosity  Perceptions of corruption  Positive affect  \\\n",
              "Country name                                                           \n",
              "Afghanistan     0.059799                   0.851207         0.450821   \n",
              "Albania        -0.079326                   0.869187         0.562253   \n",
              "Algeria        -0.131150                   0.709050         0.528238   \n",
              "Angola         -0.090508                   0.867018         0.625734   \n",
              "Argentina      -0.152495                   0.834893         0.737712   \n",
              "...                  ...                        ...              ...   \n",
              "Venezuela      -0.103815                   0.812567         0.783069   \n",
              "Vietnam        -0.027577                   0.782161         0.615601   \n",
              "Yemen          -0.132798                   0.824832         0.467373   \n",
              "Zambia          0.030526                   0.822629         0.681899   \n",
              "Zimbabwe       -0.068271                   0.821394         0.654187   \n",
              "\n",
              "              Negative affect  \n",
              "Country name                   \n",
              "Afghanistan          0.348225  \n",
              "Albania              0.296614  \n",
              "Algeria              0.264268  \n",
              "Angola               0.351173  \n",
              "Argentina            0.285498  \n",
              "...                       ...  \n",
              "Venezuela            0.257689  \n",
              "Vietnam              0.206419  \n",
              "Yemen                0.291200  \n",
              "Zambia               0.307519  \n",
              "Zimbabwe             0.215813  \n",
              "\n",
              "[155 rows x 9 columns]"
            ],
            "text/html": [
              "\n",
              "  <div id=\"df-8d077c61-4f34-4550-b268-0a5f25d49c4f\">\n",
              "    <div class=\"colab-df-container\">\n",
              "      <div>\n",
              "<style scoped>\n",
              "    .dataframe tbody tr th:only-of-type {\n",
              "        vertical-align: middle;\n",
              "    }\n",
              "\n",
              "    .dataframe tbody tr th {\n",
              "        vertical-align: top;\n",
              "    }\n",
              "\n",
              "    .dataframe thead th {\n",
              "        text-align: right;\n",
              "    }\n",
              "</style>\n",
              "<table border=\"1\" class=\"dataframe\">\n",
              "  <thead>\n",
              "    <tr style=\"text-align: right;\">\n",
              "      <th></th>\n",
              "      <th>Life Ladder</th>\n",
              "      <th>Log GDP per capita</th>\n",
              "      <th>Social support</th>\n",
              "      <th>Healthy life expectancy at birth</th>\n",
              "      <th>Freedom to make life choices</th>\n",
              "      <th>Generosity</th>\n",
              "      <th>Perceptions of corruption</th>\n",
              "      <th>Positive affect</th>\n",
              "      <th>Negative affect</th>\n",
              "    </tr>\n",
              "    <tr>\n",
              "      <th>Country name</th>\n",
              "      <th></th>\n",
              "      <th></th>\n",
              "      <th></th>\n",
              "      <th></th>\n",
              "      <th></th>\n",
              "      <th></th>\n",
              "      <th></th>\n",
              "      <th></th>\n",
              "      <th></th>\n",
              "    </tr>\n",
              "  </thead>\n",
              "  <tbody>\n",
              "    <tr>\n",
              "      <th>Afghanistan</th>\n",
              "      <td>3.505506</td>\n",
              "      <td>7.585588</td>\n",
              "      <td>0.504086</td>\n",
              "      <td>52.353846</td>\n",
              "      <td>0.508496</td>\n",
              "      <td>0.059799</td>\n",
              "      <td>0.851207</td>\n",
              "      <td>0.450821</td>\n",
              "      <td>0.348225</td>\n",
              "    </tr>\n",
              "    <tr>\n",
              "      <th>Albania</th>\n",
              "      <td>5.077571</td>\n",
              "      <td>9.416613</td>\n",
              "      <td>0.708336</td>\n",
              "      <td>68.630001</td>\n",
              "      <td>0.694135</td>\n",
              "      <td>-0.079326</td>\n",
              "      <td>0.869187</td>\n",
              "      <td>0.562253</td>\n",
              "      <td>0.296614</td>\n",
              "    </tr>\n",
              "    <tr>\n",
              "      <th>Algeria</th>\n",
              "      <td>5.230456</td>\n",
              "      <td>9.336277</td>\n",
              "      <td>0.823808</td>\n",
              "      <td>66.185714</td>\n",
              "      <td>0.521962</td>\n",
              "      <td>-0.131150</td>\n",
              "      <td>0.709050</td>\n",
              "      <td>0.528238</td>\n",
              "      <td>0.264268</td>\n",
              "    </tr>\n",
              "    <tr>\n",
              "      <th>Angola</th>\n",
              "      <td>4.420299</td>\n",
              "      <td>8.985655</td>\n",
              "      <td>0.737973</td>\n",
              "      <td>52.150001</td>\n",
              "      <td>0.455957</td>\n",
              "      <td>-0.090508</td>\n",
              "      <td>0.867018</td>\n",
              "      <td>0.625734</td>\n",
              "      <td>0.351173</td>\n",
              "    </tr>\n",
              "    <tr>\n",
              "      <th>Argentina</th>\n",
              "      <td>6.295712</td>\n",
              "      <td>10.037832</td>\n",
              "      <td>0.902754</td>\n",
              "      <td>66.769333</td>\n",
              "      <td>0.785509</td>\n",
              "      <td>-0.152495</td>\n",
              "      <td>0.834893</td>\n",
              "      <td>0.737712</td>\n",
              "      <td>0.285498</td>\n",
              "    </tr>\n",
              "    <tr>\n",
              "      <th>...</th>\n",
              "      <td>...</td>\n",
              "      <td>...</td>\n",
              "      <td>...</td>\n",
              "      <td>...</td>\n",
              "      <td>...</td>\n",
              "      <td>...</td>\n",
              "      <td>...</td>\n",
              "      <td>...</td>\n",
              "      <td>...</td>\n",
              "    </tr>\n",
              "    <tr>\n",
              "      <th>Venezuela</th>\n",
              "      <td>6.002285</td>\n",
              "      <td>8.455210</td>\n",
              "      <td>0.912044</td>\n",
              "      <td>65.047500</td>\n",
              "      <td>0.645630</td>\n",
              "      <td>-0.103815</td>\n",
              "      <td>0.812567</td>\n",
              "      <td>0.783069</td>\n",
              "      <td>0.257689</td>\n",
              "    </tr>\n",
              "    <tr>\n",
              "      <th>Vietnam</th>\n",
              "      <td>5.458287</td>\n",
              "      <td>8.997615</td>\n",
              "      <td>0.819746</td>\n",
              "      <td>64.936666</td>\n",
              "      <td>0.893443</td>\n",
              "      <td>-0.027577</td>\n",
              "      <td>0.782161</td>\n",
              "      <td>0.615601</td>\n",
              "      <td>0.206419</td>\n",
              "    </tr>\n",
              "    <tr>\n",
              "      <th>Yemen</th>\n",
              "      <td>3.932129</td>\n",
              "      <td>8.010700</td>\n",
              "      <td>0.720856</td>\n",
              "      <td>58.318333</td>\n",
              "      <td>0.629779</td>\n",
              "      <td>-0.132798</td>\n",
              "      <td>0.824832</td>\n",
              "      <td>0.467373</td>\n",
              "      <td>0.291200</td>\n",
              "    </tr>\n",
              "    <tr>\n",
              "      <th>Zambia</th>\n",
              "      <td>4.460374</td>\n",
              "      <td>8.081674</td>\n",
              "      <td>0.727828</td>\n",
              "      <td>52.218847</td>\n",
              "      <td>0.771045</td>\n",
              "      <td>0.030526</td>\n",
              "      <td>0.822629</td>\n",
              "      <td>0.681899</td>\n",
              "      <td>0.307519</td>\n",
              "    </tr>\n",
              "    <tr>\n",
              "      <th>Zimbabwe</th>\n",
              "      <td>3.838975</td>\n",
              "      <td>7.634978</td>\n",
              "      <td>0.779578</td>\n",
              "      <td>49.846667</td>\n",
              "      <td>0.616686</td>\n",
              "      <td>-0.068271</td>\n",
              "      <td>0.821394</td>\n",
              "      <td>0.654187</td>\n",
              "      <td>0.215813</td>\n",
              "    </tr>\n",
              "  </tbody>\n",
              "</table>\n",
              "<p>155 rows × 9 columns</p>\n",
              "</div>\n",
              "      <button class=\"colab-df-convert\" onclick=\"convertToInteractive('df-8d077c61-4f34-4550-b268-0a5f25d49c4f')\"\n",
              "              title=\"Convert this dataframe to an interactive table.\"\n",
              "              style=\"display:none;\">\n",
              "        \n",
              "  <svg xmlns=\"http://www.w3.org/2000/svg\" height=\"24px\"viewBox=\"0 0 24 24\"\n",
              "       width=\"24px\">\n",
              "    <path d=\"M0 0h24v24H0V0z\" fill=\"none\"/>\n",
              "    <path d=\"M18.56 5.44l.94 2.06.94-2.06 2.06-.94-2.06-.94-.94-2.06-.94 2.06-2.06.94zm-11 1L8.5 8.5l.94-2.06 2.06-.94-2.06-.94L8.5 2.5l-.94 2.06-2.06.94zm10 10l.94 2.06.94-2.06 2.06-.94-2.06-.94-.94-2.06-.94 2.06-2.06.94z\"/><path d=\"M17.41 7.96l-1.37-1.37c-.4-.4-.92-.59-1.43-.59-.52 0-1.04.2-1.43.59L10.3 9.45l-7.72 7.72c-.78.78-.78 2.05 0 2.83L4 21.41c.39.39.9.59 1.41.59.51 0 1.02-.2 1.41-.59l7.78-7.78 2.81-2.81c.8-.78.8-2.07 0-2.86zM5.41 20L4 18.59l7.72-7.72 1.47 1.35L5.41 20z\"/>\n",
              "  </svg>\n",
              "      </button>\n",
              "      \n",
              "  <style>\n",
              "    .colab-df-container {\n",
              "      display:flex;\n",
              "      flex-wrap:wrap;\n",
              "      gap: 12px;\n",
              "    }\n",
              "\n",
              "    .colab-df-convert {\n",
              "      background-color: #E8F0FE;\n",
              "      border: none;\n",
              "      border-radius: 50%;\n",
              "      cursor: pointer;\n",
              "      display: none;\n",
              "      fill: #1967D2;\n",
              "      height: 32px;\n",
              "      padding: 0 0 0 0;\n",
              "      width: 32px;\n",
              "    }\n",
              "\n",
              "    .colab-df-convert:hover {\n",
              "      background-color: #E2EBFA;\n",
              "      box-shadow: 0px 1px 2px rgba(60, 64, 67, 0.3), 0px 1px 3px 1px rgba(60, 64, 67, 0.15);\n",
              "      fill: #174EA6;\n",
              "    }\n",
              "\n",
              "    [theme=dark] .colab-df-convert {\n",
              "      background-color: #3B4455;\n",
              "      fill: #D2E3FC;\n",
              "    }\n",
              "\n",
              "    [theme=dark] .colab-df-convert:hover {\n",
              "      background-color: #434B5C;\n",
              "      box-shadow: 0px 1px 3px 1px rgba(0, 0, 0, 0.15);\n",
              "      filter: drop-shadow(0px 1px 2px rgba(0, 0, 0, 0.3));\n",
              "      fill: #FFFFFF;\n",
              "    }\n",
              "  </style>\n",
              "\n",
              "      <script>\n",
              "        const buttonEl =\n",
              "          document.querySelector('#df-8d077c61-4f34-4550-b268-0a5f25d49c4f button.colab-df-convert');\n",
              "        buttonEl.style.display =\n",
              "          google.colab.kernel.accessAllowed ? 'block' : 'none';\n",
              "\n",
              "        async function convertToInteractive(key) {\n",
              "          const element = document.querySelector('#df-8d077c61-4f34-4550-b268-0a5f25d49c4f');\n",
              "          const dataTable =\n",
              "            await google.colab.kernel.invokeFunction('convertToInteractive',\n",
              "                                                     [key], {});\n",
              "          if (!dataTable) return;\n",
              "\n",
              "          const docLinkHtml = 'Like what you see? Visit the ' +\n",
              "            '<a target=\"_blank\" href=https://colab.research.google.com/notebooks/data_table.ipynb>data table notebook</a>'\n",
              "            + ' to learn more about interactive tables.';\n",
              "          element.innerHTML = '';\n",
              "          dataTable['output_type'] = 'display_data';\n",
              "          await google.colab.output.renderOutput(dataTable, element);\n",
              "          const docLink = document.createElement('div');\n",
              "          docLink.innerHTML = docLinkHtml;\n",
              "          element.appendChild(docLink);\n",
              "        }\n",
              "      </script>\n",
              "    </div>\n",
              "  </div>\n",
              "  "
            ]
          },
          "metadata": {},
          "execution_count": 469
        }
      ]
    },
    {
      "cell_type": "markdown",
      "source": [
        "**Quais os 10 países mais felizes?**"
      ],
      "metadata": {
        "id": "nJEMd9p-nkyE"
      }
    },
    {
      "cell_type": "code",
      "source": [
        "whr_df_grouped.sort_values('Life Ladder', ascending=False).head(10)"
      ],
      "metadata": {
        "colab": {
          "base_uri": "https://localhost:8080/",
          "height": 473
        },
        "id": "X6Mq4aRoc-AO",
        "outputId": "13240369-01a1-4a30-9467-cf37745232b1"
      },
      "execution_count": 504,
      "outputs": [
        {
          "output_type": "execute_result",
          "data": {
            "text/plain": [
              "              Life Ladder  Log GDP per capita  Social support  \\\n",
              "Country name                                                    \n",
              "Denmark          7.639674           10.893454        0.956453   \n",
              "Finland          7.615338           10.759183        0.951196   \n",
              "Norway           7.487833           11.064926        0.947234   \n",
              "Switzerland      7.474595           11.140619        0.936357   \n",
              "Netherlands      7.451144           10.899362        0.930409   \n",
              "Iceland          7.450396           10.874794        0.978162   \n",
              "Sweden           7.386382           10.825779        0.928717   \n",
              "Canada           7.306824           10.758100        0.932681   \n",
              "Israel           7.300104           10.534049        0.908434   \n",
              "New Zealand      7.253340           10.615157        0.952364   \n",
              "\n",
              "              Healthy life expectancy at birth  Freedom to make life choices  \\\n",
              "Country name                                                                   \n",
              "Denmark                              70.322666                      0.942449   \n",
              "Finland                              70.504286                      0.940668   \n",
              "Norway                               71.127273                      0.950872   \n",
              "Switzerland                          72.154544                      0.916910   \n",
              "Netherlands                          71.187143                      0.902325   \n",
              "Iceland                              71.824999                      0.927942   \n",
              "Sweden                               71.558668                      0.930797   \n",
              "Canada                               71.081333                      0.917923   \n",
              "Israel                               71.930667                      0.729668   \n",
              "New Zealand                          70.018572                      0.918171   \n",
              "\n",
              "              Generosity  Perceptions of corruption  Positive affect  \\\n",
              "Country name                                                           \n",
              "Denmark         0.163488                   0.195957         0.784713   \n",
              "Finland         0.004162                   0.248974         0.742988   \n",
              "Norway          0.141160                   0.329219         0.785666   \n",
              "Switzerland     0.078633                   0.288423         0.753875   \n",
              "Netherlands     0.263780                   0.403398         0.734915   \n",
              "Iceland         0.249913                   0.696112         0.808708   \n",
              "Sweden          0.152701                   0.252976         0.764691   \n",
              "Canada          0.208079                   0.412259         0.779278   \n",
              "Israel          0.095822                   0.811385         0.610270   \n",
              "New Zealand     0.238831                   0.267153         0.775327   \n",
              "\n",
              "              Negative affect  \n",
              "Country name                   \n",
              "Denmark              0.201267  \n",
              "Finland              0.186962  \n",
              "Norway               0.202321  \n",
              "Switzerland          0.186581  \n",
              "Netherlands          0.209572  \n",
              "Iceland              0.162358  \n",
              "Sweden               0.182134  \n",
              "Canada               0.255800  \n",
              "Israel               0.293862  \n",
              "New Zealand          0.196936  "
            ],
            "text/html": [
              "\n",
              "  <div id=\"df-3bc63c93-fb01-44be-935b-0f42bb341e96\">\n",
              "    <div class=\"colab-df-container\">\n",
              "      <div>\n",
              "<style scoped>\n",
              "    .dataframe tbody tr th:only-of-type {\n",
              "        vertical-align: middle;\n",
              "    }\n",
              "\n",
              "    .dataframe tbody tr th {\n",
              "        vertical-align: top;\n",
              "    }\n",
              "\n",
              "    .dataframe thead th {\n",
              "        text-align: right;\n",
              "    }\n",
              "</style>\n",
              "<table border=\"1\" class=\"dataframe\">\n",
              "  <thead>\n",
              "    <tr style=\"text-align: right;\">\n",
              "      <th></th>\n",
              "      <th>Life Ladder</th>\n",
              "      <th>Log GDP per capita</th>\n",
              "      <th>Social support</th>\n",
              "      <th>Healthy life expectancy at birth</th>\n",
              "      <th>Freedom to make life choices</th>\n",
              "      <th>Generosity</th>\n",
              "      <th>Perceptions of corruption</th>\n",
              "      <th>Positive affect</th>\n",
              "      <th>Negative affect</th>\n",
              "    </tr>\n",
              "    <tr>\n",
              "      <th>Country name</th>\n",
              "      <th></th>\n",
              "      <th></th>\n",
              "      <th></th>\n",
              "      <th></th>\n",
              "      <th></th>\n",
              "      <th></th>\n",
              "      <th></th>\n",
              "      <th></th>\n",
              "      <th></th>\n",
              "    </tr>\n",
              "  </thead>\n",
              "  <tbody>\n",
              "    <tr>\n",
              "      <th>Denmark</th>\n",
              "      <td>7.639674</td>\n",
              "      <td>10.893454</td>\n",
              "      <td>0.956453</td>\n",
              "      <td>70.322666</td>\n",
              "      <td>0.942449</td>\n",
              "      <td>0.163488</td>\n",
              "      <td>0.195957</td>\n",
              "      <td>0.784713</td>\n",
              "      <td>0.201267</td>\n",
              "    </tr>\n",
              "    <tr>\n",
              "      <th>Finland</th>\n",
              "      <td>7.615338</td>\n",
              "      <td>10.759183</td>\n",
              "      <td>0.951196</td>\n",
              "      <td>70.504286</td>\n",
              "      <td>0.940668</td>\n",
              "      <td>0.004162</td>\n",
              "      <td>0.248974</td>\n",
              "      <td>0.742988</td>\n",
              "      <td>0.186962</td>\n",
              "    </tr>\n",
              "    <tr>\n",
              "      <th>Norway</th>\n",
              "      <td>7.487833</td>\n",
              "      <td>11.064926</td>\n",
              "      <td>0.947234</td>\n",
              "      <td>71.127273</td>\n",
              "      <td>0.950872</td>\n",
              "      <td>0.141160</td>\n",
              "      <td>0.329219</td>\n",
              "      <td>0.785666</td>\n",
              "      <td>0.202321</td>\n",
              "    </tr>\n",
              "    <tr>\n",
              "      <th>Switzerland</th>\n",
              "      <td>7.474595</td>\n",
              "      <td>11.140619</td>\n",
              "      <td>0.936357</td>\n",
              "      <td>72.154544</td>\n",
              "      <td>0.916910</td>\n",
              "      <td>0.078633</td>\n",
              "      <td>0.288423</td>\n",
              "      <td>0.753875</td>\n",
              "      <td>0.186581</td>\n",
              "    </tr>\n",
              "    <tr>\n",
              "      <th>Netherlands</th>\n",
              "      <td>7.451144</td>\n",
              "      <td>10.899362</td>\n",
              "      <td>0.930409</td>\n",
              "      <td>71.187143</td>\n",
              "      <td>0.902325</td>\n",
              "      <td>0.263780</td>\n",
              "      <td>0.403398</td>\n",
              "      <td>0.734915</td>\n",
              "      <td>0.209572</td>\n",
              "    </tr>\n",
              "    <tr>\n",
              "      <th>Iceland</th>\n",
              "      <td>7.450396</td>\n",
              "      <td>10.874794</td>\n",
              "      <td>0.978162</td>\n",
              "      <td>71.824999</td>\n",
              "      <td>0.927942</td>\n",
              "      <td>0.249913</td>\n",
              "      <td>0.696112</td>\n",
              "      <td>0.808708</td>\n",
              "      <td>0.162358</td>\n",
              "    </tr>\n",
              "    <tr>\n",
              "      <th>Sweden</th>\n",
              "      <td>7.386382</td>\n",
              "      <td>10.825779</td>\n",
              "      <td>0.928717</td>\n",
              "      <td>71.558668</td>\n",
              "      <td>0.930797</td>\n",
              "      <td>0.152701</td>\n",
              "      <td>0.252976</td>\n",
              "      <td>0.764691</td>\n",
              "      <td>0.182134</td>\n",
              "    </tr>\n",
              "    <tr>\n",
              "      <th>Canada</th>\n",
              "      <td>7.306824</td>\n",
              "      <td>10.758100</td>\n",
              "      <td>0.932681</td>\n",
              "      <td>71.081333</td>\n",
              "      <td>0.917923</td>\n",
              "      <td>0.208079</td>\n",
              "      <td>0.412259</td>\n",
              "      <td>0.779278</td>\n",
              "      <td>0.255800</td>\n",
              "    </tr>\n",
              "    <tr>\n",
              "      <th>Israel</th>\n",
              "      <td>7.300104</td>\n",
              "      <td>10.534049</td>\n",
              "      <td>0.908434</td>\n",
              "      <td>71.930667</td>\n",
              "      <td>0.729668</td>\n",
              "      <td>0.095822</td>\n",
              "      <td>0.811385</td>\n",
              "      <td>0.610270</td>\n",
              "      <td>0.293862</td>\n",
              "    </tr>\n",
              "    <tr>\n",
              "      <th>New Zealand</th>\n",
              "      <td>7.253340</td>\n",
              "      <td>10.615157</td>\n",
              "      <td>0.952364</td>\n",
              "      <td>70.018572</td>\n",
              "      <td>0.918171</td>\n",
              "      <td>0.238831</td>\n",
              "      <td>0.267153</td>\n",
              "      <td>0.775327</td>\n",
              "      <td>0.196936</td>\n",
              "    </tr>\n",
              "  </tbody>\n",
              "</table>\n",
              "</div>\n",
              "      <button class=\"colab-df-convert\" onclick=\"convertToInteractive('df-3bc63c93-fb01-44be-935b-0f42bb341e96')\"\n",
              "              title=\"Convert this dataframe to an interactive table.\"\n",
              "              style=\"display:none;\">\n",
              "        \n",
              "  <svg xmlns=\"http://www.w3.org/2000/svg\" height=\"24px\"viewBox=\"0 0 24 24\"\n",
              "       width=\"24px\">\n",
              "    <path d=\"M0 0h24v24H0V0z\" fill=\"none\"/>\n",
              "    <path d=\"M18.56 5.44l.94 2.06.94-2.06 2.06-.94-2.06-.94-.94-2.06-.94 2.06-2.06.94zm-11 1L8.5 8.5l.94-2.06 2.06-.94-2.06-.94L8.5 2.5l-.94 2.06-2.06.94zm10 10l.94 2.06.94-2.06 2.06-.94-2.06-.94-.94-2.06-.94 2.06-2.06.94z\"/><path d=\"M17.41 7.96l-1.37-1.37c-.4-.4-.92-.59-1.43-.59-.52 0-1.04.2-1.43.59L10.3 9.45l-7.72 7.72c-.78.78-.78 2.05 0 2.83L4 21.41c.39.39.9.59 1.41.59.51 0 1.02-.2 1.41-.59l7.78-7.78 2.81-2.81c.8-.78.8-2.07 0-2.86zM5.41 20L4 18.59l7.72-7.72 1.47 1.35L5.41 20z\"/>\n",
              "  </svg>\n",
              "      </button>\n",
              "      \n",
              "  <style>\n",
              "    .colab-df-container {\n",
              "      display:flex;\n",
              "      flex-wrap:wrap;\n",
              "      gap: 12px;\n",
              "    }\n",
              "\n",
              "    .colab-df-convert {\n",
              "      background-color: #E8F0FE;\n",
              "      border: none;\n",
              "      border-radius: 50%;\n",
              "      cursor: pointer;\n",
              "      display: none;\n",
              "      fill: #1967D2;\n",
              "      height: 32px;\n",
              "      padding: 0 0 0 0;\n",
              "      width: 32px;\n",
              "    }\n",
              "\n",
              "    .colab-df-convert:hover {\n",
              "      background-color: #E2EBFA;\n",
              "      box-shadow: 0px 1px 2px rgba(60, 64, 67, 0.3), 0px 1px 3px 1px rgba(60, 64, 67, 0.15);\n",
              "      fill: #174EA6;\n",
              "    }\n",
              "\n",
              "    [theme=dark] .colab-df-convert {\n",
              "      background-color: #3B4455;\n",
              "      fill: #D2E3FC;\n",
              "    }\n",
              "\n",
              "    [theme=dark] .colab-df-convert:hover {\n",
              "      background-color: #434B5C;\n",
              "      box-shadow: 0px 1px 3px 1px rgba(0, 0, 0, 0.15);\n",
              "      filter: drop-shadow(0px 1px 2px rgba(0, 0, 0, 0.3));\n",
              "      fill: #FFFFFF;\n",
              "    }\n",
              "  </style>\n",
              "\n",
              "      <script>\n",
              "        const buttonEl =\n",
              "          document.querySelector('#df-3bc63c93-fb01-44be-935b-0f42bb341e96 button.colab-df-convert');\n",
              "        buttonEl.style.display =\n",
              "          google.colab.kernel.accessAllowed ? 'block' : 'none';\n",
              "\n",
              "        async function convertToInteractive(key) {\n",
              "          const element = document.querySelector('#df-3bc63c93-fb01-44be-935b-0f42bb341e96');\n",
              "          const dataTable =\n",
              "            await google.colab.kernel.invokeFunction('convertToInteractive',\n",
              "                                                     [key], {});\n",
              "          if (!dataTable) return;\n",
              "\n",
              "          const docLinkHtml = 'Like what you see? Visit the ' +\n",
              "            '<a target=\"_blank\" href=https://colab.research.google.com/notebooks/data_table.ipynb>data table notebook</a>'\n",
              "            + ' to learn more about interactive tables.';\n",
              "          element.innerHTML = '';\n",
              "          dataTable['output_type'] = 'display_data';\n",
              "          await google.colab.output.renderOutput(dataTable, element);\n",
              "          const docLink = document.createElement('div');\n",
              "          docLink.innerHTML = docLinkHtml;\n",
              "          element.appendChild(docLink);\n",
              "        }\n",
              "      </script>\n",
              "    </div>\n",
              "  </div>\n",
              "  "
            ]
          },
          "metadata": {},
          "execution_count": 504
        }
      ]
    },
    {
      "cell_type": "markdown",
      "source": [
        "**Qual a distribuiãção dos dados? Existem outliers?**"
      ],
      "metadata": {
        "id": "Ndk_FrIvGZgZ"
      }
    },
    {
      "cell_type": "code",
      "source": [
        "whr_df_grouped.describe()"
      ],
      "metadata": {
        "colab": {
          "base_uri": "https://localhost:8080/",
          "height": 362
        },
        "id": "hdh0CmMnD9yb",
        "outputId": "34a1f7e7-3852-4033-c0b2-66b6b636aee0"
      },
      "execution_count": 470,
      "outputs": [
        {
          "output_type": "execute_result",
          "data": {
            "text/plain": [
              "       Life Ladder  Log GDP per capita  Social support  \\\n",
              "count   155.000000          155.000000      155.000000   \n",
              "mean      5.409282            9.305481        0.799058   \n",
              "std       1.074429            1.194877        0.118847   \n",
              "min       3.353661            6.682296        0.370125   \n",
              "25%       4.500960            8.404550        0.727927   \n",
              "50%       5.317860            9.401542        0.815430   \n",
              "75%       6.176181           10.263148        0.898075   \n",
              "max       7.639674           11.643212        0.978162   \n",
              "\n",
              "       Healthy life expectancy at birth  Freedom to make life choices  \\\n",
              "count                        155.000000                    155.000000   \n",
              "mean                          62.692552                      0.744089   \n",
              "std                            7.001499                      0.124348   \n",
              "min                           42.717501                      0.443277   \n",
              "25%                           57.936883                      0.664346   \n",
              "50%                           64.246665                      0.756755   \n",
              "75%                           68.075000                      0.829854   \n",
              "max                           73.635714                      0.951969   \n",
              "\n",
              "       Generosity  Perceptions of corruption  Positive affect  Negative affect  \n",
              "count  155.000000                 155.000000       155.000000       155.000000  \n",
              "mean     0.002018                   0.734688         0.651215         0.277796  \n",
              "std      0.141931                   0.177862         0.097336         0.072203  \n",
              "min     -0.283876                   0.104529         0.430678         0.152512  \n",
              "25%     -0.095802                   0.697165         0.576113         0.221377  \n",
              "50%     -0.021639                   0.786831         0.654518         0.265158  \n",
              "75%      0.063719                   0.849461         0.729584         0.323764  \n",
              "max      0.611992                   0.948092         0.823408         0.506839  "
            ],
            "text/html": [
              "\n",
              "  <div id=\"df-efebbc86-98ca-4da7-bbef-3618d50b3526\">\n",
              "    <div class=\"colab-df-container\">\n",
              "      <div>\n",
              "<style scoped>\n",
              "    .dataframe tbody tr th:only-of-type {\n",
              "        vertical-align: middle;\n",
              "    }\n",
              "\n",
              "    .dataframe tbody tr th {\n",
              "        vertical-align: top;\n",
              "    }\n",
              "\n",
              "    .dataframe thead th {\n",
              "        text-align: right;\n",
              "    }\n",
              "</style>\n",
              "<table border=\"1\" class=\"dataframe\">\n",
              "  <thead>\n",
              "    <tr style=\"text-align: right;\">\n",
              "      <th></th>\n",
              "      <th>Life Ladder</th>\n",
              "      <th>Log GDP per capita</th>\n",
              "      <th>Social support</th>\n",
              "      <th>Healthy life expectancy at birth</th>\n",
              "      <th>Freedom to make life choices</th>\n",
              "      <th>Generosity</th>\n",
              "      <th>Perceptions of corruption</th>\n",
              "      <th>Positive affect</th>\n",
              "      <th>Negative affect</th>\n",
              "    </tr>\n",
              "  </thead>\n",
              "  <tbody>\n",
              "    <tr>\n",
              "      <th>count</th>\n",
              "      <td>155.000000</td>\n",
              "      <td>155.000000</td>\n",
              "      <td>155.000000</td>\n",
              "      <td>155.000000</td>\n",
              "      <td>155.000000</td>\n",
              "      <td>155.000000</td>\n",
              "      <td>155.000000</td>\n",
              "      <td>155.000000</td>\n",
              "      <td>155.000000</td>\n",
              "    </tr>\n",
              "    <tr>\n",
              "      <th>mean</th>\n",
              "      <td>5.409282</td>\n",
              "      <td>9.305481</td>\n",
              "      <td>0.799058</td>\n",
              "      <td>62.692552</td>\n",
              "      <td>0.744089</td>\n",
              "      <td>0.002018</td>\n",
              "      <td>0.734688</td>\n",
              "      <td>0.651215</td>\n",
              "      <td>0.277796</td>\n",
              "    </tr>\n",
              "    <tr>\n",
              "      <th>std</th>\n",
              "      <td>1.074429</td>\n",
              "      <td>1.194877</td>\n",
              "      <td>0.118847</td>\n",
              "      <td>7.001499</td>\n",
              "      <td>0.124348</td>\n",
              "      <td>0.141931</td>\n",
              "      <td>0.177862</td>\n",
              "      <td>0.097336</td>\n",
              "      <td>0.072203</td>\n",
              "    </tr>\n",
              "    <tr>\n",
              "      <th>min</th>\n",
              "      <td>3.353661</td>\n",
              "      <td>6.682296</td>\n",
              "      <td>0.370125</td>\n",
              "      <td>42.717501</td>\n",
              "      <td>0.443277</td>\n",
              "      <td>-0.283876</td>\n",
              "      <td>0.104529</td>\n",
              "      <td>0.430678</td>\n",
              "      <td>0.152512</td>\n",
              "    </tr>\n",
              "    <tr>\n",
              "      <th>25%</th>\n",
              "      <td>4.500960</td>\n",
              "      <td>8.404550</td>\n",
              "      <td>0.727927</td>\n",
              "      <td>57.936883</td>\n",
              "      <td>0.664346</td>\n",
              "      <td>-0.095802</td>\n",
              "      <td>0.697165</td>\n",
              "      <td>0.576113</td>\n",
              "      <td>0.221377</td>\n",
              "    </tr>\n",
              "    <tr>\n",
              "      <th>50%</th>\n",
              "      <td>5.317860</td>\n",
              "      <td>9.401542</td>\n",
              "      <td>0.815430</td>\n",
              "      <td>64.246665</td>\n",
              "      <td>0.756755</td>\n",
              "      <td>-0.021639</td>\n",
              "      <td>0.786831</td>\n",
              "      <td>0.654518</td>\n",
              "      <td>0.265158</td>\n",
              "    </tr>\n",
              "    <tr>\n",
              "      <th>75%</th>\n",
              "      <td>6.176181</td>\n",
              "      <td>10.263148</td>\n",
              "      <td>0.898075</td>\n",
              "      <td>68.075000</td>\n",
              "      <td>0.829854</td>\n",
              "      <td>0.063719</td>\n",
              "      <td>0.849461</td>\n",
              "      <td>0.729584</td>\n",
              "      <td>0.323764</td>\n",
              "    </tr>\n",
              "    <tr>\n",
              "      <th>max</th>\n",
              "      <td>7.639674</td>\n",
              "      <td>11.643212</td>\n",
              "      <td>0.978162</td>\n",
              "      <td>73.635714</td>\n",
              "      <td>0.951969</td>\n",
              "      <td>0.611992</td>\n",
              "      <td>0.948092</td>\n",
              "      <td>0.823408</td>\n",
              "      <td>0.506839</td>\n",
              "    </tr>\n",
              "  </tbody>\n",
              "</table>\n",
              "</div>\n",
              "      <button class=\"colab-df-convert\" onclick=\"convertToInteractive('df-efebbc86-98ca-4da7-bbef-3618d50b3526')\"\n",
              "              title=\"Convert this dataframe to an interactive table.\"\n",
              "              style=\"display:none;\">\n",
              "        \n",
              "  <svg xmlns=\"http://www.w3.org/2000/svg\" height=\"24px\"viewBox=\"0 0 24 24\"\n",
              "       width=\"24px\">\n",
              "    <path d=\"M0 0h24v24H0V0z\" fill=\"none\"/>\n",
              "    <path d=\"M18.56 5.44l.94 2.06.94-2.06 2.06-.94-2.06-.94-.94-2.06-.94 2.06-2.06.94zm-11 1L8.5 8.5l.94-2.06 2.06-.94-2.06-.94L8.5 2.5l-.94 2.06-2.06.94zm10 10l.94 2.06.94-2.06 2.06-.94-2.06-.94-.94-2.06-.94 2.06-2.06.94z\"/><path d=\"M17.41 7.96l-1.37-1.37c-.4-.4-.92-.59-1.43-.59-.52 0-1.04.2-1.43.59L10.3 9.45l-7.72 7.72c-.78.78-.78 2.05 0 2.83L4 21.41c.39.39.9.59 1.41.59.51 0 1.02-.2 1.41-.59l7.78-7.78 2.81-2.81c.8-.78.8-2.07 0-2.86zM5.41 20L4 18.59l7.72-7.72 1.47 1.35L5.41 20z\"/>\n",
              "  </svg>\n",
              "      </button>\n",
              "      \n",
              "  <style>\n",
              "    .colab-df-container {\n",
              "      display:flex;\n",
              "      flex-wrap:wrap;\n",
              "      gap: 12px;\n",
              "    }\n",
              "\n",
              "    .colab-df-convert {\n",
              "      background-color: #E8F0FE;\n",
              "      border: none;\n",
              "      border-radius: 50%;\n",
              "      cursor: pointer;\n",
              "      display: none;\n",
              "      fill: #1967D2;\n",
              "      height: 32px;\n",
              "      padding: 0 0 0 0;\n",
              "      width: 32px;\n",
              "    }\n",
              "\n",
              "    .colab-df-convert:hover {\n",
              "      background-color: #E2EBFA;\n",
              "      box-shadow: 0px 1px 2px rgba(60, 64, 67, 0.3), 0px 1px 3px 1px rgba(60, 64, 67, 0.15);\n",
              "      fill: #174EA6;\n",
              "    }\n",
              "\n",
              "    [theme=dark] .colab-df-convert {\n",
              "      background-color: #3B4455;\n",
              "      fill: #D2E3FC;\n",
              "    }\n",
              "\n",
              "    [theme=dark] .colab-df-convert:hover {\n",
              "      background-color: #434B5C;\n",
              "      box-shadow: 0px 1px 3px 1px rgba(0, 0, 0, 0.15);\n",
              "      filter: drop-shadow(0px 1px 2px rgba(0, 0, 0, 0.3));\n",
              "      fill: #FFFFFF;\n",
              "    }\n",
              "  </style>\n",
              "\n",
              "      <script>\n",
              "        const buttonEl =\n",
              "          document.querySelector('#df-efebbc86-98ca-4da7-bbef-3618d50b3526 button.colab-df-convert');\n",
              "        buttonEl.style.display =\n",
              "          google.colab.kernel.accessAllowed ? 'block' : 'none';\n",
              "\n",
              "        async function convertToInteractive(key) {\n",
              "          const element = document.querySelector('#df-efebbc86-98ca-4da7-bbef-3618d50b3526');\n",
              "          const dataTable =\n",
              "            await google.colab.kernel.invokeFunction('convertToInteractive',\n",
              "                                                     [key], {});\n",
              "          if (!dataTable) return;\n",
              "\n",
              "          const docLinkHtml = 'Like what you see? Visit the ' +\n",
              "            '<a target=\"_blank\" href=https://colab.research.google.com/notebooks/data_table.ipynb>data table notebook</a>'\n",
              "            + ' to learn more about interactive tables.';\n",
              "          element.innerHTML = '';\n",
              "          dataTable['output_type'] = 'display_data';\n",
              "          await google.colab.output.renderOutput(dataTable, element);\n",
              "          const docLink = document.createElement('div');\n",
              "          docLink.innerHTML = docLinkHtml;\n",
              "          element.appendChild(docLink);\n",
              "        }\n",
              "      </script>\n",
              "    </div>\n",
              "  </div>\n",
              "  "
            ]
          },
          "metadata": {},
          "execution_count": 470
        }
      ]
    },
    {
      "cell_type": "code",
      "source": [
        "whr_df_grouped.hist(figsize=(16,8));"
      ],
      "metadata": {
        "colab": {
          "base_uri": "https://localhost:8080/",
          "height": 703
        },
        "id": "ZVgGKbDLEx8j",
        "outputId": "dfcd5144-fef0-4c0d-c1a7-b5b68ee51e14"
      },
      "execution_count": 471,
      "outputs": [
        {
          "output_type": "display_data",
          "data": {
            "text/plain": [
              "<Figure size 1600x800 with 9 Axes>"
            ],
            "image/png": "[encoded data removed]"
          },
          "metadata": {}
        }
      ]
    },
    {
      "cell_type": "code",
      "source": [
        "sns.boxplot(data=whr_df_grouped, y='Life Ladder');"
      ],
      "metadata": {
        "colab": {
          "base_uri": "https://localhost:8080/",
          "height": 406
        },
        "id": "ocSyqqSTe-M2",
        "outputId": "7bf56685-f477-4cbc-97ea-09bc7315990c"
      },
      "execution_count": 472,
      "outputs": [
        {
          "output_type": "display_data",
          "data": {
            "text/plain": [
              "<Figure size 640x480 with 1 Axes>"
            ],
            "image/png": "[encoded data removed]"
          },
          "metadata": {}
        }
      ]
    },
    {
      "cell_type": "markdown",
      "source": [
        "Não há um país considerardo outlier."
      ],
      "metadata": {
        "id": "2E9-xi-dfHZ-"
      }
    },
    {
      "cell_type": "code",
      "source": [
        "sns.boxplot(data=whr_df_grouped, y='Log GDP per capita');"
      ],
      "metadata": {
        "colab": {
          "base_uri": "https://localhost:8080/",
          "height": 406
        },
        "id": "_iSLxMX4xcZ8",
        "outputId": "4ad1455d-9722-4a2f-c3b3-10a1fca4ba13"
      },
      "execution_count": 473,
      "outputs": [
        {
          "output_type": "display_data",
          "data": {
            "text/plain": [
              "<Figure size 640x480 with 1 Axes>"
            ],
            "image/png": "[encoded data removed]"
          },
          "metadata": {}
        }
      ]
    },
    {
      "cell_type": "code",
      "source": [
        "sns.boxplot(data=whr_df_grouped, y='Social support');"
      ],
      "metadata": {
        "colab": {
          "base_uri": "https://localhost:8080/",
          "height": 407
        },
        "id": "rnFFjBknSmGr",
        "outputId": "8fb98ddb-a8e4-484c-d170-58fa8e1d7ed8"
      },
      "execution_count": 474,
      "outputs": [
        {
          "output_type": "display_data",
          "data": {
            "text/plain": [
              "<Figure size 640x480 with 1 Axes>"
            ],
            "image/png": "[encoded data removed]"
          },
          "metadata": {}
        }
      ]
    },
    {
      "cell_type": "code",
      "source": [
        "whr_df_grouped[whr_df_grouped['Social support'] < 0.5].index.unique()"
      ],
      "metadata": {
        "colab": {
          "base_uri": "https://localhost:8080/"
        },
        "id": "V2C-vgvAPDcH",
        "outputId": "edbaddf8-08fe-44cb-95a3-9f10d588bf79"
      },
      "execution_count": 475,
      "outputs": [
        {
          "output_type": "execute_result",
          "data": {
            "text/plain": [
              "Index(['Benin', 'Burundi', 'Central African Republic', 'Togo'], dtype='object', name='Country name')"
            ]
          },
          "metadata": {},
          "execution_count": 475
        }
      ]
    },
    {
      "cell_type": "markdown",
      "source": [
        "Os países com suporte social abaixo de 0.5 são da África."
      ],
      "metadata": {
        "id": "_dtFwIapRQey"
      }
    },
    {
      "cell_type": "code",
      "source": [
        "sns.boxplot(data=whr_df_grouped, y='Healthy life expectancy at birth');"
      ],
      "metadata": {
        "colab": {
          "base_uri": "https://localhost:8080/",
          "height": 410
        },
        "id": "PhHOuEUxIrHW",
        "outputId": "dd74f3e0-fb95-4bd5-9e85-516bac1900ec"
      },
      "execution_count": 476,
      "outputs": [
        {
          "output_type": "display_data",
          "data": {
            "text/plain": [
              "<Figure size 640x480 with 1 Axes>"
            ],
            "image/png": "[encoded data removed]"
          },
          "metadata": {}
        }
      ]
    },
    {
      "cell_type": "code",
      "source": [
        "whr_df_grouped[whr_df_grouped['Healthy life expectancy at birth'] < 45].index.unique()"
      ],
      "metadata": {
        "colab": {
          "base_uri": "https://localhost:8080/"
        },
        "id": "U5GZWcOQJp-n",
        "outputId": "ee84e7fb-f8ae-47dc-8fa0-3c798d14a9ae"
      },
      "execution_count": 477,
      "outputs": [
        {
          "output_type": "execute_result",
          "data": {
            "text/plain": [
              "Index(['Central African Republic', 'Haiti', 'Lesotho'], dtype='object', name='Country name')"
            ]
          },
          "metadata": {},
          "execution_count": 477
        }
      ]
    },
    {
      "cell_type": "markdown",
      "source": [
        "Países com expectativa de vida inferior a 45 anos são Haiti, Lesotho e Central African Republic."
      ],
      "metadata": {
        "id": "CggdcFLLRY2n"
      }
    },
    {
      "cell_type": "code",
      "source": [
        "sns.boxplot(data=whr_df_grouped, y='Freedom to make life choices');"
      ],
      "metadata": {
        "colab": {
          "base_uri": "https://localhost:8080/",
          "height": 406
        },
        "id": "5jyD9TG6Sqne",
        "outputId": "a5b17f7d-d6fd-47ac-f8c6-a7a0bac3fb24"
      },
      "execution_count": 478,
      "outputs": [
        {
          "output_type": "display_data",
          "data": {
            "text/plain": [
              "<Figure size 640x480 with 1 Axes>"
            ],
            "image/png": "[encoded data removed]"
          },
          "metadata": {}
        }
      ]
    },
    {
      "cell_type": "code",
      "source": [
        "sns.boxplot(data=whr_df_grouped, y='Generosity');"
      ],
      "metadata": {
        "colab": {
          "base_uri": "https://localhost:8080/",
          "height": 406
        },
        "id": "wISwNM2fTitN",
        "outputId": "fdd88044-8b2f-4f52-af62-4eb3fe0cf52d"
      },
      "execution_count": 479,
      "outputs": [
        {
          "output_type": "display_data",
          "data": {
            "text/plain": [
              "<Figure size 640x480 with 1 Axes>"
            ],
            "image/png": "[encoded data removed]"
          },
          "metadata": {}
        }
      ]
    },
    {
      "cell_type": "code",
      "source": [
        "whr_df_grouped[whr_df_grouped['Generosity'] > 0.3].index.unique()"
      ],
      "metadata": {
        "colab": {
          "base_uri": "https://localhost:8080/"
        },
        "id": "oNWGzATbTmWN",
        "outputId": "18aa698a-3bb8-44b0-a2aa-ee5c256c8c77"
      },
      "execution_count": 480,
      "outputs": [
        {
          "output_type": "execute_result",
          "data": {
            "text/plain": [
              "Index(['Gambia', 'Indonesia', 'Myanmar', 'Thailand', 'United Kingdom'], dtype='object', name='Country name')"
            ]
          },
          "metadata": {},
          "execution_count": 480
        }
      ]
    },
    {
      "cell_type": "markdown",
      "source": [
        "A maioria dos países com índice maior de generosidade são pequenos países da Ásia e o Reino Unido."
      ],
      "metadata": {
        "id": "5Vjc9gG0TxeG"
      }
    },
    {
      "cell_type": "code",
      "source": [
        "sns.boxplot(data=whr_df_grouped, y='Perceptions of corruption');"
      ],
      "metadata": {
        "colab": {
          "base_uri": "https://localhost:8080/",
          "height": 406
        },
        "id": "oR1ypMvLS3Lw",
        "outputId": "a56d216f-3e3d-4f2a-d690-bb78993d66fc"
      },
      "execution_count": 481,
      "outputs": [
        {
          "output_type": "display_data",
          "data": {
            "text/plain": [
              "<Figure size 640x480 with 1 Axes>"
            ],
            "image/png": "[encoded data removed]"
          },
          "metadata": {}
        }
      ]
    },
    {
      "cell_type": "code",
      "source": [
        "whr_df_grouped[whr_df_grouped['Perceptions of corruption'] < 0.4].index.unique()"
      ],
      "metadata": {
        "colab": {
          "base_uri": "https://localhost:8080/"
        },
        "id": "-k_sNTHARpig",
        "outputId": "5306e62a-5a4c-48a5-d951-dd3ee8c7e7c2"
      },
      "execution_count": 482,
      "outputs": [
        {
          "output_type": "execute_result",
          "data": {
            "text/plain": [
              "Index(['Denmark', 'Finland', 'Luxembourg', 'New Zealand', 'Norway', 'Qatar',\n",
              "       'Rwanda', 'Singapore', 'Sweden', 'Switzerland', 'United Arab Emirates'],\n",
              "      dtype='object', name='Country name')"
            ]
          },
          "metadata": {},
          "execution_count": 482
        }
      ]
    },
    {
      "cell_type": "markdown",
      "source": [
        "A maioria dos países com menor percepção de corrupção estão entre os 10 mais felizes."
      ],
      "metadata": {
        "id": "axqL6Nvode_g"
      }
    },
    {
      "cell_type": "markdown",
      "source": [
        "## **Respondendo as perguntas de negócio propostas**"
      ],
      "metadata": {
        "id": "oFoxLDCHWKlu"
      }
    },
    {
      "cell_type": "markdown",
      "source": [
        "### **Pergunta 1**: O aumento do PIB per capita de um país afeta positivamente a expectativa de vida dos cidadãos ao nascer? Qual a correlação entre essas duas variáveis?"
      ],
      "metadata": {
        "id": "dkE83dBIWwG4"
      }
    },
    {
      "cell_type": "code",
      "source": [
        "fig, ax = plt.subplots(figsize=(12,6))\n",
        "\n",
        "ax = sns.scatterplot(x='Log GDP per capita',\n",
        "                     y='Healthy life expectancy at birth',\n",
        "                     data=whr_df_grouped)\n",
        "\n",
        "ax.set_title('Logarithm of GDP per capita X Life expectancy',\n",
        "             loc='left', fontsize=16)\n",
        "ax.spines['right'].set_visible(False)\n",
        "ax.spines['top'].set_visible(False)\n",
        "ax.grid(False)\n",
        "\n",
        "plt.plot()"
      ],
      "metadata": {
        "colab": {
          "base_uri": "https://localhost:8080/",
          "height": 592
        },
        "id": "xheXOPmJWZEa",
        "outputId": "f7076da2-fc00-4523-8f10-15922e74192f"
      },
      "execution_count": 483,
      "outputs": [
        {
          "output_type": "execute_result",
          "data": {
            "text/plain": [
              "[]"
            ]
          },
          "metadata": {},
          "execution_count": 483
        },
        {
          "output_type": "display_data",
          "data": {
            "text/plain": [
              "<Figure size 1200x600 with 1 Axes>"
            ],
            "image/png": "[encoded data removed]"
          },
          "metadata": {}
        }
      ]
    },
    {
      "cell_type": "code",
      "source": [
        "res, pvalue = spearmanr(whr_df_grouped['Log GDP per capita'],\n",
        "                        whr_df_grouped['Healthy life expectancy at birth'],\n",
        "                        nan_policy='omit')\n",
        "\n",
        "res, pvalue"
      ],
      "metadata": {
        "id": "-908SnxpXQMY",
        "colab": {
          "base_uri": "https://localhost:8080/"
        },
        "outputId": "dfc76876-6656-4090-8f13-c16f5c9b28b0"
      },
      "execution_count": 506,
      "outputs": [
        {
          "output_type": "execute_result",
          "data": {
            "text/plain": [
              "(0.8564716384196316, 8.62089371468297e-46)"
            ]
          },
          "metadata": {},
          "execution_count": 506
        }
      ]
    },
    {
      "cell_type": "markdown",
      "source": [
        "Com o resultado acima é possível afirmar, com 95% de confiança, que há uma correlação positiva forte de 0.85 entre o PIB per capita de um país e a expectativa de vida dos cidadãos ao nascer.\n",
        "\n",
        "Com as análises gráficas e de boxplot, também é possível afirmar que os pontos mais extremos, taxa de expectativa de vida abaixo de 40, são Haiti, Lesotho e Central African Republic."
      ],
      "metadata": {
        "id": "DhtnRKVUaZBn"
      }
    },
    {
      "cell_type": "markdown",
      "source": [
        "### **Pergunta 2**: Existe uma correlação entre a escala de vida e a conscientização do público em geral sobre a corrupção nos negócios e no governo? Qual a correlação entre essas duas variáveis?"
      ],
      "metadata": {
        "id": "6Ft5Mvm1cm-G"
      }
    },
    {
      "cell_type": "code",
      "source": [
        "fig, ax = plt.subplots(figsize=(12,6))\n",
        "\n",
        "ax = sns.scatterplot(x='Life Ladder',\n",
        "                     y='Perceptions of corruption',\n",
        "                     data=whr_df_grouped)\n",
        "\n",
        "ax.set_title('Life Ladder X Perceptions of corruption',\n",
        "             loc='left',\n",
        "             fontsize=16)\n",
        "ax.spines['right'].set_visible(False)\n",
        "ax.spines['top'].set_visible(False)\n",
        "ax.grid(False)\n",
        "\n",
        "plt.plot()"
      ],
      "metadata": {
        "colab": {
          "base_uri": "https://localhost:8080/",
          "height": 592
        },
        "id": "dAIEPzwwa7x7",
        "outputId": "82fddd16-9773-400a-f343-8c03f6f1cb6f"
      },
      "execution_count": 486,
      "outputs": [
        {
          "output_type": "execute_result",
          "data": {
            "text/plain": [
              "[]"
            ]
          },
          "metadata": {},
          "execution_count": 486
        },
        {
          "output_type": "display_data",
          "data": {
            "text/plain": [
              "<Figure size 1200x600 with 1 Axes>"
            ],
            "image/png": "[encoded data removed]"
          },
          "metadata": {}
        }
      ]
    },
    {
      "cell_type": "code",
      "source": [
        "res, pvalue = spearmanr(whr_df_grouped['Life Ladder'],\n",
        "                        whr_df_grouped['Perceptions of corruption'],\n",
        "                        nan_policy='omit')\n",
        "\n",
        "res, pvalue"
      ],
      "metadata": {
        "id": "lkvnv48texqz",
        "colab": {
          "base_uri": "https://localhost:8080/"
        },
        "outputId": "41213052-4c33-4279-d489-0b97cdfb6e57"
      },
      "execution_count": 507,
      "outputs": [
        {
          "output_type": "execute_result",
          "data": {
            "text/plain": [
              "(-0.28817956237311076, 0.00027667222359023763)"
            ]
          },
          "metadata": {},
          "execution_count": 507
        }
      ]
    },
    {
      "cell_type": "markdown",
      "source": [
        "Com o resultado acima é possível afirmar, com 95% de confiança, que há uma correlação negativa de 0.28 entre o a escala de vida de um país e a percepção de um país."
      ],
      "metadata": {
        "id": "d8FGxFlm4-qu"
      }
    },
    {
      "cell_type": "markdown",
      "source": [
        "### **Pergunta 3**: O aumento na escala de vida tem algum efeito na média de felicidade entre o público em geral? Qual a correlação entre essas duas variáveis?"
      ],
      "metadata": {
        "id": "ym-Rb_YR4OZq"
      }
    },
    {
      "cell_type": "code",
      "source": [
        "fig, ax = plt.subplots(figsize=(12,6))\n",
        "\n",
        "ax = sns.scatterplot(x='Life Ladder',\n",
        "                     y='Positive affect',\n",
        "                     data=whr_df_grouped)\n",
        "\n",
        "ax.set_title('Life Ladder X Positive affect',\n",
        "             loc='left',\n",
        "             fontsize=16)\n",
        "ax.spines['right'].set_visible(False)\n",
        "ax.spines['top'].set_visible(False)\n",
        "ax.grid(False)\n",
        "\n",
        "plt.plot()"
      ],
      "metadata": {
        "colab": {
          "base_uri": "https://localhost:8080/",
          "height": 592
        },
        "id": "fLrH_KPme4H5",
        "outputId": "ec25db4f-c6ed-4b67-c528-a11baf2cfc1c"
      },
      "execution_count": 489,
      "outputs": [
        {
          "output_type": "execute_result",
          "data": {
            "text/plain": [
              "[]"
            ]
          },
          "metadata": {},
          "execution_count": 489
        },
        {
          "output_type": "display_data",
          "data": {
            "text/plain": [
              "<Figure size 1200x600 with 1 Axes>"
            ],
            "image/png": "[encoded data removed]"
          },
          "metadata": {}
        }
      ]
    },
    {
      "cell_type": "code",
      "source": [
        "res, pvalue = spearmanr(whr_df_grouped['Life Ladder'],\n",
        "                        whr_df_grouped['Positive affect'],\n",
        "                        nan_policy='omit')\n",
        "\n",
        "res, pvalue"
      ],
      "metadata": {
        "id": "mEry1FME4fG_",
        "colab": {
          "base_uri": "https://localhost:8080/"
        },
        "outputId": "e76d646d-b33a-4438-ce84-0a718f1b28c7"
      },
      "execution_count": 508,
      "outputs": [
        {
          "output_type": "execute_result",
          "data": {
            "text/plain": [
              "(0.5311108246592118, 1.1660414986308977e-12)"
            ]
          },
          "metadata": {},
          "execution_count": 508
        }
      ]
    },
    {
      "cell_type": "markdown",
      "source": [
        "Com o resultado acima é possível afirmar, com 95% de confiança, que há uma correlação positiva de 0.53 entre a escala de vida de um país e a o nível de felicidade do público em geral."
      ],
      "metadata": {
        "id": "6j8k8gy65Usl"
      }
    },
    {
      "cell_type": "markdown",
      "source": [
        "### **Pergunta 4**: O país com o menor índice de suporte social tem maior percepção de corrupção em relação às empresas e ao governo no país?"
      ],
      "metadata": {
        "id": "XqxxeozI6Gxx"
      }
    },
    {
      "cell_type": "code",
      "source": [
        "whr_df_grouped[whr_df_grouped['Social support'] == whr_df_grouped['Social support'].min()]"
      ],
      "metadata": {
        "colab": {
          "base_uri": "https://localhost:8080/",
          "height": 191
        },
        "id": "FH__AVp64pJv",
        "outputId": "f30e4de4-29f5-4de1-b27e-1a0ee68a61db"
      },
      "execution_count": 492,
      "outputs": [
        {
          "output_type": "execute_result",
          "data": {
            "text/plain": [
              "                          Life Ladder  Log GDP per capita  Social support  \\\n",
              "Country name                                                                \n",
              "Central African Republic     3.353661            6.881893        0.370125   \n",
              "\n",
              "                          Healthy life expectancy at birth  \\\n",
              "Country name                                                 \n",
              "Central African Republic                           43.8475   \n",
              "\n",
              "                          Freedom to make life choices  Generosity  \\\n",
              "Country name                                                         \n",
              "Central African Republic                      0.684819    0.017585   \n",
              "\n",
              "                          Perceptions of corruption  Positive affect  \\\n",
              "Country name                                                           \n",
              "Central African Republic                   0.857129         0.533195   \n",
              "\n",
              "                          Negative affect  \n",
              "Country name                               \n",
              "Central African Republic         0.406872  "
            ],
            "text/html": [
              "\n",
              "  <div id=\"df-5bc260dd-d5c5-40dd-9fff-993e20d961cb\">\n",
              "    <div class=\"colab-df-container\">\n",
              "      <div>\n",
              "<style scoped>\n",
              "    .dataframe tbody tr th:only-of-type {\n",
              "        vertical-align: middle;\n",
              "    }\n",
              "\n",
              "    .dataframe tbody tr th {\n",
              "        vertical-align: top;\n",
              "    }\n",
              "\n",
              "    .dataframe thead th {\n",
              "        text-align: right;\n",
              "    }\n",
              "</style>\n",
              "<table border=\"1\" class=\"dataframe\">\n",
              "  <thead>\n",
              "    <tr style=\"text-align: right;\">\n",
              "      <th></th>\n",
              "      <th>Life Ladder</th>\n",
              "      <th>Log GDP per capita</th>\n",
              "      <th>Social support</th>\n",
              "      <th>Healthy life expectancy at birth</th>\n",
              "      <th>Freedom to make life choices</th>\n",
              "      <th>Generosity</th>\n",
              "      <th>Perceptions of corruption</th>\n",
              "      <th>Positive affect</th>\n",
              "      <th>Negative affect</th>\n",
              "    </tr>\n",
              "    <tr>\n",
              "      <th>Country name</th>\n",
              "      <th></th>\n",
              "      <th></th>\n",
              "      <th></th>\n",
              "      <th></th>\n",
              "      <th></th>\n",
              "      <th></th>\n",
              "      <th></th>\n",
              "      <th></th>\n",
              "      <th></th>\n",
              "    </tr>\n",
              "  </thead>\n",
              "  <tbody>\n",
              "    <tr>\n",
              "      <th>Central African Republic</th>\n",
              "      <td>3.353661</td>\n",
              "      <td>6.881893</td>\n",
              "      <td>0.370125</td>\n",
              "      <td>43.8475</td>\n",
              "      <td>0.684819</td>\n",
              "      <td>0.017585</td>\n",
              "      <td>0.857129</td>\n",
              "      <td>0.533195</td>\n",
              "      <td>0.406872</td>\n",
              "    </tr>\n",
              "  </tbody>\n",
              "</table>\n",
              "</div>\n",
              "      <button class=\"colab-df-convert\" onclick=\"convertToInteractive('df-5bc260dd-d5c5-40dd-9fff-993e20d961cb')\"\n",
              "              title=\"Convert this dataframe to an interactive table.\"\n",
              "              style=\"display:none;\">\n",
              "        \n",
              "  <svg xmlns=\"http://www.w3.org/2000/svg\" height=\"24px\"viewBox=\"0 0 24 24\"\n",
              "       width=\"24px\">\n",
              "    <path d=\"M0 0h24v24H0V0z\" fill=\"none\"/>\n",
              "    <path d=\"M18.56 5.44l.94 2.06.94-2.06 2.06-.94-2.06-.94-.94-2.06-.94 2.06-2.06.94zm-11 1L8.5 8.5l.94-2.06 2.06-.94-2.06-.94L8.5 2.5l-.94 2.06-2.06.94zm10 10l.94 2.06.94-2.06 2.06-.94-2.06-.94-.94-2.06-.94 2.06-2.06.94z\"/><path d=\"M17.41 7.96l-1.37-1.37c-.4-.4-.92-.59-1.43-.59-.52 0-1.04.2-1.43.59L10.3 9.45l-7.72 7.72c-.78.78-.78 2.05 0 2.83L4 21.41c.39.39.9.59 1.41.59.51 0 1.02-.2 1.41-.59l7.78-7.78 2.81-2.81c.8-.78.8-2.07 0-2.86zM5.41 20L4 18.59l7.72-7.72 1.47 1.35L5.41 20z\"/>\n",
              "  </svg>\n",
              "      </button>\n",
              "      \n",
              "  <style>\n",
              "    .colab-df-container {\n",
              "      display:flex;\n",
              "      flex-wrap:wrap;\n",
              "      gap: 12px;\n",
              "    }\n",
              "\n",
              "    .colab-df-convert {\n",
              "      background-color: #E8F0FE;\n",
              "      border: none;\n",
              "      border-radius: 50%;\n",
              "      cursor: pointer;\n",
              "      display: none;\n",
              "      fill: #1967D2;\n",
              "      height: 32px;\n",
              "      padding: 0 0 0 0;\n",
              "      width: 32px;\n",
              "    }\n",
              "\n",
              "    .colab-df-convert:hover {\n",
              "      background-color: #E2EBFA;\n",
              "      box-shadow: 0px 1px 2px rgba(60, 64, 67, 0.3), 0px 1px 3px 1px rgba(60, 64, 67, 0.15);\n",
              "      fill: #174EA6;\n",
              "    }\n",
              "\n",
              "    [theme=dark] .colab-df-convert {\n",
              "      background-color: #3B4455;\n",
              "      fill: #D2E3FC;\n",
              "    }\n",
              "\n",
              "    [theme=dark] .colab-df-convert:hover {\n",
              "      background-color: #434B5C;\n",
              "      box-shadow: 0px 1px 3px 1px rgba(0, 0, 0, 0.15);\n",
              "      filter: drop-shadow(0px 1px 2px rgba(0, 0, 0, 0.3));\n",
              "      fill: #FFFFFF;\n",
              "    }\n",
              "  </style>\n",
              "\n",
              "      <script>\n",
              "        const buttonEl =\n",
              "          document.querySelector('#df-5bc260dd-d5c5-40dd-9fff-993e20d961cb button.colab-df-convert');\n",
              "        buttonEl.style.display =\n",
              "          google.colab.kernel.accessAllowed ? 'block' : 'none';\n",
              "\n",
              "        async function convertToInteractive(key) {\n",
              "          const element = document.querySelector('#df-5bc260dd-d5c5-40dd-9fff-993e20d961cb');\n",
              "          const dataTable =\n",
              "            await google.colab.kernel.invokeFunction('convertToInteractive',\n",
              "                                                     [key], {});\n",
              "          if (!dataTable) return;\n",
              "\n",
              "          const docLinkHtml = 'Like what you see? Visit the ' +\n",
              "            '<a target=\"_blank\" href=https://colab.research.google.com/notebooks/data_table.ipynb>data table notebook</a>'\n",
              "            + ' to learn more about interactive tables.';\n",
              "          element.innerHTML = '';\n",
              "          dataTable['output_type'] = 'display_data';\n",
              "          await google.colab.output.renderOutput(dataTable, element);\n",
              "          const docLink = document.createElement('div');\n",
              "          docLink.innerHTML = docLinkHtml;\n",
              "          element.appendChild(docLink);\n",
              "        }\n",
              "      </script>\n",
              "    </div>\n",
              "  </div>\n",
              "  "
            ]
          },
          "metadata": {},
          "execution_count": 492
        }
      ]
    },
    {
      "cell_type": "code",
      "source": [
        "whr_df_grouped[whr_df_grouped['Perceptions of corruption'] == whr_df_grouped['Perceptions of corruption'].max()]"
      ],
      "metadata": {
        "colab": {
          "base_uri": "https://localhost:8080/",
          "height": 191
        },
        "id": "eu4nXzAk6v7F",
        "outputId": "dfa45d86-2dcc-4fdf-f5a2-dc04be1d6cdb"
      },
      "execution_count": 493,
      "outputs": [
        {
          "output_type": "execute_result",
          "data": {
            "text/plain": [
              "              Life Ladder  Log GDP per capita  Social support  \\\n",
              "Country name                                                    \n",
              "Romania          5.797341           10.135444        0.794699   \n",
              "\n",
              "              Healthy life expectancy at birth  Freedom to make life choices  \\\n",
              "Country name                                                                   \n",
              "Romania                              66.280003                      0.756755   \n",
              "\n",
              "              Generosity  Perceptions of corruption  Positive affect  \\\n",
              "Country name                                                           \n",
              "Romania        -0.155563                   0.948092         0.591946   \n",
              "\n",
              "              Negative affect  \n",
              "Country name                   \n",
              "Romania               0.28798  "
            ],
            "text/html": [
              "\n",
              "  <div id=\"df-2d7d1a8f-19cf-4cc4-a1df-a7178dfc4ebd\">\n",
              "    <div class=\"colab-df-container\">\n",
              "      <div>\n",
              "<style scoped>\n",
              "    .dataframe tbody tr th:only-of-type {\n",
              "        vertical-align: middle;\n",
              "    }\n",
              "\n",
              "    .dataframe tbody tr th {\n",
              "        vertical-align: top;\n",
              "    }\n",
              "\n",
              "    .dataframe thead th {\n",
              "        text-align: right;\n",
              "    }\n",
              "</style>\n",
              "<table border=\"1\" class=\"dataframe\">\n",
              "  <thead>\n",
              "    <tr style=\"text-align: right;\">\n",
              "      <th></th>\n",
              "      <th>Life Ladder</th>\n",
              "      <th>Log GDP per capita</th>\n",
              "      <th>Social support</th>\n",
              "      <th>Healthy life expectancy at birth</th>\n",
              "      <th>Freedom to make life choices</th>\n",
              "      <th>Generosity</th>\n",
              "      <th>Perceptions of corruption</th>\n",
              "      <th>Positive affect</th>\n",
              "      <th>Negative affect</th>\n",
              "    </tr>\n",
              "    <tr>\n",
              "      <th>Country name</th>\n",
              "      <th></th>\n",
              "      <th></th>\n",
              "      <th></th>\n",
              "      <th></th>\n",
              "      <th></th>\n",
              "      <th></th>\n",
              "      <th></th>\n",
              "      <th></th>\n",
              "      <th></th>\n",
              "    </tr>\n",
              "  </thead>\n",
              "  <tbody>\n",
              "    <tr>\n",
              "      <th>Romania</th>\n",
              "      <td>5.797341</td>\n",
              "      <td>10.135444</td>\n",
              "      <td>0.794699</td>\n",
              "      <td>66.280003</td>\n",
              "      <td>0.756755</td>\n",
              "      <td>-0.155563</td>\n",
              "      <td>0.948092</td>\n",
              "      <td>0.591946</td>\n",
              "      <td>0.28798</td>\n",
              "    </tr>\n",
              "  </tbody>\n",
              "</table>\n",
              "</div>\n",
              "      <button class=\"colab-df-convert\" onclick=\"convertToInteractive('df-2d7d1a8f-19cf-4cc4-a1df-a7178dfc4ebd')\"\n",
              "              title=\"Convert this dataframe to an interactive table.\"\n",
              "              style=\"display:none;\">\n",
              "        \n",
              "  <svg xmlns=\"http://www.w3.org/2000/svg\" height=\"24px\"viewBox=\"0 0 24 24\"\n",
              "       width=\"24px\">\n",
              "    <path d=\"M0 0h24v24H0V0z\" fill=\"none\"/>\n",
              "    <path d=\"M18.56 5.44l.94 2.06.94-2.06 2.06-.94-2.06-.94-.94-2.06-.94 2.06-2.06.94zm-11 1L8.5 8.5l.94-2.06 2.06-.94-2.06-.94L8.5 2.5l-.94 2.06-2.06.94zm10 10l.94 2.06.94-2.06 2.06-.94-2.06-.94-.94-2.06-.94 2.06-2.06.94z\"/><path d=\"M17.41 7.96l-1.37-1.37c-.4-.4-.92-.59-1.43-.59-.52 0-1.04.2-1.43.59L10.3 9.45l-7.72 7.72c-.78.78-.78 2.05 0 2.83L4 21.41c.39.39.9.59 1.41.59.51 0 1.02-.2 1.41-.59l7.78-7.78 2.81-2.81c.8-.78.8-2.07 0-2.86zM5.41 20L4 18.59l7.72-7.72 1.47 1.35L5.41 20z\"/>\n",
              "  </svg>\n",
              "      </button>\n",
              "      \n",
              "  <style>\n",
              "    .colab-df-container {\n",
              "      display:flex;\n",
              "      flex-wrap:wrap;\n",
              "      gap: 12px;\n",
              "    }\n",
              "\n",
              "    .colab-df-convert {\n",
              "      background-color: #E8F0FE;\n",
              "      border: none;\n",
              "      border-radius: 50%;\n",
              "      cursor: pointer;\n",
              "      display: none;\n",
              "      fill: #1967D2;\n",
              "      height: 32px;\n",
              "      padding: 0 0 0 0;\n",
              "      width: 32px;\n",
              "    }\n",
              "\n",
              "    .colab-df-convert:hover {\n",
              "      background-color: #E2EBFA;\n",
              "      box-shadow: 0px 1px 2px rgba(60, 64, 67, 0.3), 0px 1px 3px 1px rgba(60, 64, 67, 0.15);\n",
              "      fill: #174EA6;\n",
              "    }\n",
              "\n",
              "    [theme=dark] .colab-df-convert {\n",
              "      background-color: #3B4455;\n",
              "      fill: #D2E3FC;\n",
              "    }\n",
              "\n",
              "    [theme=dark] .colab-df-convert:hover {\n",
              "      background-color: #434B5C;\n",
              "      box-shadow: 0px 1px 3px 1px rgba(0, 0, 0, 0.15);\n",
              "      filter: drop-shadow(0px 1px 2px rgba(0, 0, 0, 0.3));\n",
              "      fill: #FFFFFF;\n",
              "    }\n",
              "  </style>\n",
              "\n",
              "      <script>\n",
              "        const buttonEl =\n",
              "          document.querySelector('#df-2d7d1a8f-19cf-4cc4-a1df-a7178dfc4ebd button.colab-df-convert');\n",
              "        buttonEl.style.display =\n",
              "          google.colab.kernel.accessAllowed ? 'block' : 'none';\n",
              "\n",
              "        async function convertToInteractive(key) {\n",
              "          const element = document.querySelector('#df-2d7d1a8f-19cf-4cc4-a1df-a7178dfc4ebd');\n",
              "          const dataTable =\n",
              "            await google.colab.kernel.invokeFunction('convertToInteractive',\n",
              "                                                     [key], {});\n",
              "          if (!dataTable) return;\n",
              "\n",
              "          const docLinkHtml = 'Like what you see? Visit the ' +\n",
              "            '<a target=\"_blank\" href=https://colab.research.google.com/notebooks/data_table.ipynb>data table notebook</a>'\n",
              "            + ' to learn more about interactive tables.';\n",
              "          element.innerHTML = '';\n",
              "          dataTable['output_type'] = 'display_data';\n",
              "          await google.colab.output.renderOutput(dataTable, element);\n",
              "          const docLink = document.createElement('div');\n",
              "          docLink.innerHTML = docLinkHtml;\n",
              "          element.appendChild(docLink);\n",
              "        }\n",
              "      </script>\n",
              "    </div>\n",
              "  </div>\n",
              "  "
            ]
          },
          "metadata": {},
          "execution_count": 493
        }
      ]
    },
    {
      "cell_type": "code",
      "source": [
        "whr_df_grouped[['Social support', 'Perceptions of corruption']].describe()"
      ],
      "metadata": {
        "colab": {
          "base_uri": "https://localhost:8080/",
          "height": 300
        },
        "id": "A7G9tPdf7Dx9",
        "outputId": "0efa6f4d-da29-46ad-8021-6ba5fb4cfb40"
      },
      "execution_count": 494,
      "outputs": [
        {
          "output_type": "execute_result",
          "data": {
            "text/plain": [
              "       Social support  Perceptions of corruption\n",
              "count      155.000000                 155.000000\n",
              "mean         0.799058                   0.734688\n",
              "std          0.118847                   0.177862\n",
              "min          0.370125                   0.104529\n",
              "25%          0.727927                   0.697165\n",
              "50%          0.815430                   0.786831\n",
              "75%          0.898075                   0.849461\n",
              "max          0.978162                   0.948092"
            ],
            "text/html": [
              "\n",
              "  <div id=\"df-46920bd5-c062-478e-8b91-c19ef4b03634\">\n",
              "    <div class=\"colab-df-container\">\n",
              "      <div>\n",
              "<style scoped>\n",
              "    .dataframe tbody tr th:only-of-type {\n",
              "        vertical-align: middle;\n",
              "    }\n",
              "\n",
              "    .dataframe tbody tr th {\n",
              "        vertical-align: top;\n",
              "    }\n",
              "\n",
              "    .dataframe thead th {\n",
              "        text-align: right;\n",
              "    }\n",
              "</style>\n",
              "<table border=\"1\" class=\"dataframe\">\n",
              "  <thead>\n",
              "    <tr style=\"text-align: right;\">\n",
              "      <th></th>\n",
              "      <th>Social support</th>\n",
              "      <th>Perceptions of corruption</th>\n",
              "    </tr>\n",
              "  </thead>\n",
              "  <tbody>\n",
              "    <tr>\n",
              "      <th>count</th>\n",
              "      <td>155.000000</td>\n",
              "      <td>155.000000</td>\n",
              "    </tr>\n",
              "    <tr>\n",
              "      <th>mean</th>\n",
              "      <td>0.799058</td>\n",
              "      <td>0.734688</td>\n",
              "    </tr>\n",
              "    <tr>\n",
              "      <th>std</th>\n",
              "      <td>0.118847</td>\n",
              "      <td>0.177862</td>\n",
              "    </tr>\n",
              "    <tr>\n",
              "      <th>min</th>\n",
              "      <td>0.370125</td>\n",
              "      <td>0.104529</td>\n",
              "    </tr>\n",
              "    <tr>\n",
              "      <th>25%</th>\n",
              "      <td>0.727927</td>\n",
              "      <td>0.697165</td>\n",
              "    </tr>\n",
              "    <tr>\n",
              "      <th>50%</th>\n",
              "      <td>0.815430</td>\n",
              "      <td>0.786831</td>\n",
              "    </tr>\n",
              "    <tr>\n",
              "      <th>75%</th>\n",
              "      <td>0.898075</td>\n",
              "      <td>0.849461</td>\n",
              "    </tr>\n",
              "    <tr>\n",
              "      <th>max</th>\n",
              "      <td>0.978162</td>\n",
              "      <td>0.948092</td>\n",
              "    </tr>\n",
              "  </tbody>\n",
              "</table>\n",
              "</div>\n",
              "      <button class=\"colab-df-convert\" onclick=\"convertToInteractive('df-46920bd5-c062-478e-8b91-c19ef4b03634')\"\n",
              "              title=\"Convert this dataframe to an interactive table.\"\n",
              "              style=\"display:none;\">\n",
              "        \n",
              "  <svg xmlns=\"http://www.w3.org/2000/svg\" height=\"24px\"viewBox=\"0 0 24 24\"\n",
              "       width=\"24px\">\n",
              "    <path d=\"M0 0h24v24H0V0z\" fill=\"none\"/>\n",
              "    <path d=\"M18.56 5.44l.94 2.06.94-2.06 2.06-.94-2.06-.94-.94-2.06-.94 2.06-2.06.94zm-11 1L8.5 8.5l.94-2.06 2.06-.94-2.06-.94L8.5 2.5l-.94 2.06-2.06.94zm10 10l.94 2.06.94-2.06 2.06-.94-2.06-.94-.94-2.06-.94 2.06-2.06.94z\"/><path d=\"M17.41 7.96l-1.37-1.37c-.4-.4-.92-.59-1.43-.59-.52 0-1.04.2-1.43.59L10.3 9.45l-7.72 7.72c-.78.78-.78 2.05 0 2.83L4 21.41c.39.39.9.59 1.41.59.51 0 1.02-.2 1.41-.59l7.78-7.78 2.81-2.81c.8-.78.8-2.07 0-2.86zM5.41 20L4 18.59l7.72-7.72 1.47 1.35L5.41 20z\"/>\n",
              "  </svg>\n",
              "      </button>\n",
              "      \n",
              "  <style>\n",
              "    .colab-df-container {\n",
              "      display:flex;\n",
              "      flex-wrap:wrap;\n",
              "      gap: 12px;\n",
              "    }\n",
              "\n",
              "    .colab-df-convert {\n",
              "      background-color: #E8F0FE;\n",
              "      border: none;\n",
              "      border-radius: 50%;\n",
              "      cursor: pointer;\n",
              "      display: none;\n",
              "      fill: #1967D2;\n",
              "      height: 32px;\n",
              "      padding: 0 0 0 0;\n",
              "      width: 32px;\n",
              "    }\n",
              "\n",
              "    .colab-df-convert:hover {\n",
              "      background-color: #E2EBFA;\n",
              "      box-shadow: 0px 1px 2px rgba(60, 64, 67, 0.3), 0px 1px 3px 1px rgba(60, 64, 67, 0.15);\n",
              "      fill: #174EA6;\n",
              "    }\n",
              "\n",
              "    [theme=dark] .colab-df-convert {\n",
              "      background-color: #3B4455;\n",
              "      fill: #D2E3FC;\n",
              "    }\n",
              "\n",
              "    [theme=dark] .colab-df-convert:hover {\n",
              "      background-color: #434B5C;\n",
              "      box-shadow: 0px 1px 3px 1px rgba(0, 0, 0, 0.15);\n",
              "      filter: drop-shadow(0px 1px 2px rgba(0, 0, 0, 0.3));\n",
              "      fill: #FFFFFF;\n",
              "    }\n",
              "  </style>\n",
              "\n",
              "      <script>\n",
              "        const buttonEl =\n",
              "          document.querySelector('#df-46920bd5-c062-478e-8b91-c19ef4b03634 button.colab-df-convert');\n",
              "        buttonEl.style.display =\n",
              "          google.colab.kernel.accessAllowed ? 'block' : 'none';\n",
              "\n",
              "        async function convertToInteractive(key) {\n",
              "          const element = document.querySelector('#df-46920bd5-c062-478e-8b91-c19ef4b03634');\n",
              "          const dataTable =\n",
              "            await google.colab.kernel.invokeFunction('convertToInteractive',\n",
              "                                                     [key], {});\n",
              "          if (!dataTable) return;\n",
              "\n",
              "          const docLinkHtml = 'Like what you see? Visit the ' +\n",
              "            '<a target=\"_blank\" href=https://colab.research.google.com/notebooks/data_table.ipynb>data table notebook</a>'\n",
              "            + ' to learn more about interactive tables.';\n",
              "          element.innerHTML = '';\n",
              "          dataTable['output_type'] = 'display_data';\n",
              "          await google.colab.output.renderOutput(dataTable, element);\n",
              "          const docLink = document.createElement('div');\n",
              "          docLink.innerHTML = docLinkHtml;\n",
              "          element.appendChild(docLink);\n",
              "        }\n",
              "      </script>\n",
              "    </div>\n",
              "  </div>\n",
              "  "
            ]
          },
          "metadata": {},
          "execution_count": 494
        }
      ]
    },
    {
      "cell_type": "markdown",
      "source": [
        "O país com menor índice de suporte social é a República Centro-Africana com 0.3701. Seu índice percepção de corrupção é 0.8571. Ele não é o país com maior índice de percepção de corrupção, que é a Romênia com índice de 0.9480, porém está entre os 25% com maior índice."
      ],
      "metadata": {
        "id": "-qgx6nfw8T2I"
      }
    },
    {
      "cell_type": "markdown",
      "source": [
        "### **Pergunta 5**: Pessoas generosas são mais felizes?"
      ],
      "metadata": {
        "id": "R1lTypK3-tH_"
      }
    },
    {
      "cell_type": "code",
      "source": [
        "fig, ax = plt.subplots(figsize=(12,6))\n",
        "\n",
        "ax = sns.scatterplot(x='Generosity',\n",
        "                     y='Positive affect',\n",
        "                     data=whr_df_grouped)\n",
        "\n",
        "ax.set_title('Generosity X Positive affect',\n",
        "             loc='left',\n",
        "             fontsize=16)\n",
        "ax.spines['right'].set_visible(False)\n",
        "ax.spines['top'].set_visible(False)\n",
        "ax.grid(False)"
      ],
      "metadata": {
        "colab": {
          "base_uri": "https://localhost:8080/",
          "height": 575
        },
        "id": "zoQsafd99WAn",
        "outputId": "8a6fb055-8588-4644-edbf-6c219fb40d7d"
      },
      "execution_count": 495,
      "outputs": [
        {
          "output_type": "display_data",
          "data": {
            "text/plain": [
              "<Figure size 1200x600 with 1 Axes>"
            ],
            "image/png": "[encoded data removed]"
          },
          "metadata": {}
        }
      ]
    },
    {
      "cell_type": "code",
      "source": [
        "res, pvalue = spearmanr(whr_df_grouped['Generosity'],\n",
        "                        whr_df_grouped['Positive affect'],\n",
        "                        nan_policy='omit')"
      ],
      "metadata": {
        "id": "sXR7dLn3-4aS"
      },
      "execution_count": 496,
      "outputs": []
    },
    {
      "cell_type": "code",
      "source": [
        "res, pvalue"
      ],
      "metadata": {
        "colab": {
          "base_uri": "https://localhost:8080/"
        },
        "id": "tmiquN8H_Bt4",
        "outputId": "ad957b67-c6be-4e61-8670-9c47001ddd04"
      },
      "execution_count": 497,
      "outputs": [
        {
          "output_type": "execute_result",
          "data": {
            "text/plain": [
              "(0.306828655215752, 0.00010311022447844865)"
            ]
          },
          "metadata": {},
          "execution_count": 497
        }
      ]
    },
    {
      "cell_type": "markdown",
      "source": [
        "Com o resultado acima é possível afirmar, com 95% de confiança, que há uma correlação positiva de 0.30 entre a generosidade e o nível de felicidade do público em geral. Pessoas mais generosas são mais felizes."
      ],
      "metadata": {
        "id": "wQ822IN6_PFh"
      }
    },
    {
      "cell_type": "markdown",
      "source": [
        "## **Fim do projeto**:\n",
        "\n",
        "Com as respostas de negócio respondidas o projeto de análise de dados pode ser finalizado já que o objetivo foi alcançado!\n",
        "\n",
        "É importante lembrar que as análises realizadas indicam a correlação entre os dados, e não causalidade."
      ],
      "metadata": {
        "id": "az4_ReUUAVy2"
      }
    }
  ]
}